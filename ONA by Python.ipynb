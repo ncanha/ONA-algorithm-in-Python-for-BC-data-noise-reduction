{
 "cells": [
  {
   "cell_type": "code",
   "execution_count": 1,
   "metadata": {},
   "outputs": [],
   "source": [
    "# ONA for Python - Noise reduction in Black Carbon data | version 02 (June 2020)\n",
    "\n",
    "# ONA is the Optimized Noise reduction Averaging (ONA) algorithm developed by Hagler et al. (2011) to reduce the occurence of negative values of BC data while preserving the significant dynamics trends in the time series. \n",
    "# More information about ONA can be found in:\n",
    "\n",
    "# Hagler GSW, Yelverton TLB, Vedantham R, Hansen ADA, Turner JR (2011) Post-processing Method to Reduce Noise while Preserving High Time Resolution in Aethalometer Real-time Black Carbon Data. Aerosol and Air Quality Research 11, 539–546. doi: 10.4209/aaqr.2011.05.0055\n",
    "\n",
    "# The original algorithm was developed in MatLab code and this script aims to implement it in Python code.\n",
    "\n",
    "# The script is available at:\n",
    "# https://github.com/ncanha/ONA-algorithm-in-Python-for-BC-data-noise-reduction"
   ]
  },
  {
   "cell_type": "code",
   "execution_count": 2,
   "metadata": {},
   "outputs": [],
   "source": [
    "# This program will look for positive (and final) changes in ATN throughout the data. This code\n",
    "# anticipates that a variable named “BC_ONA” has already been created and has the following\n",
    "# columns – 1) serial timestamp, 2) original BC concentrations, and 3) original ATN values."
   ]
  },
  {
   "cell_type": "code",
   "execution_count": 3,
   "metadata": {},
   "outputs": [],
   "source": [
    "# The example used in this code is regarding BC data obtained by a microAeth® AE51 (from ARTHLABS) \n",
    "# in a monitoring campaign in Greeland."
   ]
  },
  {
   "cell_type": "code",
   "execution_count": 4,
   "metadata": {},
   "outputs": [],
   "source": [
    "# Upload the analysis packages:\n",
    "\n",
    "import numpy as np"
   ]
  },
  {
   "cell_type": "code",
   "execution_count": 5,
   "metadata": {},
   "outputs": [],
   "source": [
    "import matplotlib.pyplot as plot"
   ]
  },
  {
   "cell_type": "code",
   "execution_count": 6,
   "metadata": {},
   "outputs": [],
   "source": [
    "import csv"
   ]
  },
  {
   "cell_type": "code",
   "execution_count": 7,
   "metadata": {},
   "outputs": [],
   "source": [
    "import time"
   ]
  },
  {
   "cell_type": "code",
   "execution_count": 8,
   "metadata": {},
   "outputs": [],
   "source": [
    "import pandas as pd"
   ]
  },
  {
   "cell_type": "code",
   "execution_count": 9,
   "metadata": {},
   "outputs": [],
   "source": [
    "# Check your working folder by using \"pwd\" and then \"cd 'path'\" to enter in the desired folder\n",
    "# the raw csv datafile should be in the working folder"
   ]
  },
  {
   "cell_type": "code",
   "execution_count": 10,
   "metadata": {},
   "outputs": [
    {
     "data": {
      "text/plain": [
       "'C:\\\\Users\\\\Nuno Canha\\\\Desktop\\\\Python\\\\Geo\\\\Notebooks'"
      ]
     },
     "execution_count": 10,
     "metadata": {},
     "output_type": "execute_result"
    }
   ],
   "source": [
    "pwd"
   ]
  },
  {
   "cell_type": "code",
   "execution_count": 11,
   "metadata": {},
   "outputs": [
    {
     "name": "stdout",
     "output_type": "stream",
     "text": [
      "C:\\Users\\Nuno Canha\\Desktop\\Python\\BC\\Test\n"
     ]
    }
   ],
   "source": [
    "cd C:\\Users\\Nuno Canha\\Desktop\\Python\\BC\\Test"
   ]
  },
  {
   "cell_type": "code",
   "execution_count": 12,
   "metadata": {},
   "outputs": [
    {
     "data": {
      "text/plain": [
       "'C:\\\\Users\\\\Nuno Canha\\\\Desktop\\\\Python\\\\BC\\\\Test'"
      ]
     },
     "execution_count": 12,
     "metadata": {},
     "output_type": "execute_result"
    }
   ],
   "source": [
    "pwd"
   ]
  },
  {
   "cell_type": "code",
   "execution_count": 13,
   "metadata": {},
   "outputs": [],
   "source": [
    "# Preparing data\n",
    "\n",
    "fields = [] \n",
    "rows = [] "
   ]
  },
  {
   "cell_type": "code",
   "execution_count": 14,
   "metadata": {},
   "outputs": [],
   "source": [
    "with open('2017_BC_ONA_966.csv') as f:\n",
    "    csvreader = csv.reader(f) \n",
    "    fields = next(csvreader)\n",
    "    \n",
    "    # Extracting each data row one by one \n",
    "    for row in csvreader: \n",
    "        rows.append(row)"
   ]
  },
  {
   "cell_type": "code",
   "execution_count": 15,
   "metadata": {},
   "outputs": [],
   "source": [
    "data = np.array(rows)\n",
    "b= []\n",
    "data_times =[]\n",
    "for i in range(len(data[:,0])):\n",
    "    a=pd.to_datetime(data[i,0])\n",
    "    b.append(a)\n",
    "    \n",
    "    # Time as posix\n",
    "    data_times.append(time.mktime(a.timetuple()))"
   ]
  },
  {
   "cell_type": "code",
   "execution_count": 16,
   "metadata": {},
   "outputs": [],
   "source": [
    "# First column is datetime:\n",
    "data_times = np.array(data_times)\n",
    "\n",
    "# Second column is black carbon data (BC):\n",
    "bc = data[:,1]\n",
    "\n",
    "# Third column is attenuation data (atn):\n",
    "atn = data[:,2]\n",
    "\n",
    "# Create three column BC_ONA matrix: \n",
    "BC_ONA = np.array([data_times,bc,atn])\n",
    "BC_ONA = BC_ONA.transpose()"
   ]
  },
  {
   "cell_type": "code",
   "execution_count": 17,
   "metadata": {},
   "outputs": [
    {
     "data": {
      "text/plain": [
       "array([['1496776680.0', '-12', '4.589'],\n",
       "       ['1496776740.0', '12', '4.59'],\n",
       "       ['1496776800.0', '60', '4.591'],\n",
       "       ...,\n",
       "       ['1498759200.0', '4', '11.95'],\n",
       "       ['1498759500.0', '31', '11.954'],\n",
       "       ['1498759800.0', '-6', '11.953']], dtype='<U32')"
      ]
     },
     "execution_count": 17,
     "metadata": {},
     "output_type": "execute_result"
    }
   ],
   "source": [
    "# Create new variable\n",
    "BC_ONA_ATN=BC_ONA\n",
    "\n",
    "BC_ONA_ATN"
   ]
  },
  {
   "cell_type": "code",
   "execution_count": 18,
   "metadata": {},
   "outputs": [],
   "source": [
    "# Find filter change points\n",
    "temp = np.zeros([len(BC_ONA)-1,1])\n",
    "for i in range(len(BC_ONA)-1):\n",
    "    temp[i,0] = abs(float(BC_ONA_ATN[i+1,2])-float(BC_ONA_ATN[i,2]))\n",
    "temp1= np.array(np.where(temp[:,0]>30))\n",
    "if temp1.size != 0 :\n",
    "    filtchange = np.array([0])\n",
    "    filtchange = np.append(filtchange,temp1)\n",
    "    filtchange = np.append(filtchange,len(BC_ONA_ATN))\n",
    "else:\n",
    "    filtchange = np.array([[0],[len(BC_ONA_ATN)]])\n",
    "del i,temp1"
   ]
  },
  {
   "cell_type": "code",
   "execution_count": 19,
   "metadata": {},
   "outputs": [
    {
     "data": {
      "text/plain": [
       "array([[0.001],\n",
       "       [0.001],\n",
       "       [0.002],\n",
       "       ...,\n",
       "       [0.001],\n",
       "       [0.004],\n",
       "       [0.001]])"
      ]
     },
     "execution_count": 19,
     "metadata": {},
     "output_type": "execute_result"
    }
   ],
   "source": [
    "# Check the new variable \"temp\" that contains the ATN changes between BC measures\n",
    "temp"
   ]
  },
  {
   "cell_type": "code",
   "execution_count": 20,
   "metadata": {},
   "outputs": [
    {
     "data": {
      "text/plain": [
       "10602"
      ]
     },
     "execution_count": 20,
     "metadata": {},
     "output_type": "execute_result"
    }
   ],
   "source": [
    "len(temp)"
   ]
  },
  {
   "cell_type": "code",
   "execution_count": 21,
   "metadata": {},
   "outputs": [
    {
     "data": {
      "text/plain": [
       "10603"
      ]
     },
     "execution_count": 21,
     "metadata": {},
     "output_type": "execute_result"
    }
   ],
   "source": [
    "len(BC_ONA_ATN)"
   ]
  },
  {
   "cell_type": "code",
   "execution_count": 22,
   "metadata": {},
   "outputs": [],
   "source": [
    "# Define the ATN default incremental value\n",
    "delATN=0.05"
   ]
  },
  {
   "cell_type": "code",
   "execution_count": 23,
   "metadata": {},
   "outputs": [],
   "source": [
    "# Calculate smoothed BC\n",
    "temp = np.zeros([len(BC_ONA_ATN),4])\n",
    "temp[:,:-1] = BC_ONA_ATN\n",
    "BC_ONA_ATN = temp\n",
    "del temp\n",
    "BC_ONA_ATN[:,3] = 1\n",
    "temp = np.array([])\n",
    "for i in range(len(BC_ONA_ATN[:,2])):\n",
    "    if BC_ONA_ATN[i,2] != '-':\n",
    "        temp2 = float(BC_ONA[i,2]) \n",
    "        temp = np.append(temp,temp2)  \n",
    "        del temp2\n",
    "for k in range(len(filtchange)-1):\n",
    "    j = filtchange[k] # Set to first point after filter change\n",
    "    j = int(j)\n",
    "    for i in range(j,len(BC_ONA_ATN)):\n",
    "        if j<filtchange[k+1]:\n",
    "            if i==j:\n",
    "                des_ind =np.where(temp[j:len(BC_ONA_ATN)]<=(temp[j]+delATN))\n",
    "                temp2 = des_ind[-1]\n",
    "                # des_ind = des_ind[-1]\n",
    "                # if len(des_ind) == 0:\n",
    "                if len(temp2) != 0:\n",
    "                    \n",
    "                    # Calculated smoothed new BC\n",
    "                    BC_ONA_ATN[j:temp2[-1]+j+1,1]=np.nanmean(BC_ONA_ATN[j:temp2[-1]+j+1,1])      \n",
    "                    \n",
    "                    # Calculate averaging period\n",
    "                    BC_ONA_ATN[j:temp2[-1]+j+1,3]=len(BC_ONA_ATN[j:temp2[-1]+j+1,1])\n",
    "                    j = j+temp2[-1]+1\n",
    "                else:\n",
    "                    j = j+1\n",
    "del filtchange"
   ]
  },
  {
   "cell_type": "code",
   "execution_count": 24,
   "metadata": {},
   "outputs": [
    {
     "data": {
      "text/plain": [
       "array([[1.49677668e+09, 2.31219512e+01, 4.58900000e+00, 8.20000000e+01],\n",
       "       [1.49677674e+09, 2.31219512e+01, 4.59000000e+00, 8.20000000e+01],\n",
       "       [1.49677680e+09, 2.31219512e+01, 4.59100000e+00, 8.20000000e+01],\n",
       "       ...,\n",
       "       [1.49875920e+09, 2.77777778e+01, 1.19500000e+01, 9.00000000e+00],\n",
       "       [1.49875950e+09, 2.77777778e+01, 1.19540000e+01, 9.00000000e+00],\n",
       "       [1.49875980e+09, 2.77777778e+01, 1.19530000e+01, 9.00000000e+00]])"
      ]
     },
     "execution_count": 24,
     "metadata": {},
     "output_type": "execute_result"
    }
   ],
   "source": [
    "# The variable \"BC_ONA_ATN\" contains now 4 different collumns: \"Time\" (as posix), \"Corrected BC\", \"ATN\" and \"points average\"\n",
    "BC_ONA_ATN"
   ]
  },
  {
   "cell_type": "code",
   "execution_count": 25,
   "metadata": {},
   "outputs": [],
   "source": [
    "# METRICS OF SMOOTHING PERFORMANCE \n",
    "# The code from this point forwards only displays the results and does not do any data alteration."
   ]
  },
  {
   "cell_type": "code",
   "execution_count": 26,
   "metadata": {},
   "outputs": [
    {
     "name": "stdout",
     "output_type": "stream",
     "text": [
      "Fraction of negative values in original dataset =  0.30104687352636045\n",
      "Fraction of negative values after ONA correction =  0.0\n"
     ]
    }
   ],
   "source": [
    "#1. Reduction of negatives - fraction in original vs. remaining\n",
    "temp2 = 0\n",
    "temp3 = 0\n",
    "\n",
    "for i in range(len(BC_ONA[:,1])):\n",
    "    if BC_ONA_ATN[i,1] != '':\n",
    "        if float(BC_ONA[i,1])<0:\n",
    "            temp2 += 1\n",
    "    if BC_ONA_ATN[i,1] != '-':\n",
    "            if float(BC_ONA_ATN[i,1])<0:\n",
    "             temp3 += 1     \n",
    "\n",
    "numneg_org=temp2/len(BC_ONA[:,1])\n",
    "numneg_filt=temp3/len(BC_ONA[:,1])\n",
    "del temp2,temp3\n",
    "print(\"Fraction of negative values in original dataset = \",numneg_org)\n",
    "print(\"Fraction of negative values after ONA correction = \",numneg_filt)\n",
    "del numneg_org,numneg_filt"
   ]
  },
  {
   "cell_type": "code",
   "execution_count": 27,
   "metadata": {},
   "outputs": [
    {
     "name": "stdout",
     "output_type": "stream",
     "text": [
      "BC Noise reduction (from to, in ng.m-3): [27.82644784  0.17620767]\n"
     ]
    },
    {
     "data": {
      "image/png": "[encoded data removed]",
      "text/plain": [
       "<Figure size 432x288 with 1 Axes>"
      ]
     },
     "metadata": {
      "needs_background": "light"
     },
     "output_type": "display_data"
    }
   ],
   "source": [
    "#2. Reduction of noise\n",
    "\n",
    "temp = np.zeros([len(BC_ONA)-1,2])\n",
    "for i in range(len(BC_ONA)-1):\n",
    "    if BC_ONA_ATN[i,1] != '' and BC_ONA_ATN[i+1,1] != '':\n",
    "        temp[i,0]=abs(float(BC_ONA[i+1,1])-float(BC_ONA[i,1]))\n",
    "    if BC_ONA_ATN[i,1] != '-' and BC_ONA_ATN[i+1,1] != '-':\n",
    "        temp[i,1]=abs(float(BC_ONA_ATN[i+1,1])-float(BC_ONA_ATN[i,1]))\n",
    "\n",
    "noise = np.array([np.nanmean(temp[:,0]),np.nanmean(temp[:,1])])\n",
    "langs = ['Original dataset','ONA corrected dataset']\n",
    "fig = plot.figure()\n",
    "plot.bar(langs,noise)\n",
    "plot.title ('Reduction of Noise between BC measurements')\n",
    "plot.ylabel('Avg Abs BC$_{t+1 - t}$ (ng.$m^-$$^3$)')\n",
    "plot.rcParams['figure.figsize']=[12,6]\n",
    "plot.savefig('Figure 1 - Noise Reduction.png')\n",
    "\n",
    "print('BC Noise reduction (from to, in ng.m-3):', noise)"
   ]
  },
  {
   "cell_type": "code",
   "execution_count": 28,
   "metadata": {},
   "outputs": [
    {
     "data": {
      "image/png": "[encoded data removed]",
      "text/plain": [
       "<Figure size 864x432 with 1 Axes>"
      ]
     },
     "metadata": {
      "needs_background": "light"
     },
     "output_type": "display_data"
    }
   ],
   "source": [
    "#3. Averaging interval and histogram of points averaged\n",
    "\n",
    "time_inc = abs(float(BC_ONA[1,0])-float(BC_ONA[0,0]))\n",
    "temp = BC_ONA_ATN[:,3].astype(np.float)\n",
    "timeavg = np.array([time_inc,np.nanmean(temp)*time_inc])\n",
    "fig2 = plot.figure()\n",
    "plot.title ('Averaged time after ONA correction')\n",
    "plot.bar(langs,timeavg)\n",
    "plot.ylabel('avg timebase (s)')\n",
    "plot.savefig('Figure 2 - Averaged time after ONA correction.png')"
   ]
  },
  {
   "cell_type": "code",
   "execution_count": 29,
   "metadata": {},
   "outputs": [
    {
     "data": {
      "image/png": "[encoded data removed]",
      "text/plain": [
       "<Figure size 864x432 with 1 Axes>"
      ]
     },
     "metadata": {
      "needs_background": "light"
     },
     "output_type": "display_data"
    }
   ],
   "source": [
    "del time_inc,temp,timeavg\n",
    "fig3 = plot.figure()\n",
    "plot.hist(BC_ONA_ATN[:,3], bins = 10)\n",
    "plot.title ('Histogram of points averaged')\n",
    "plot.xlabel('# pts averaged')\n",
    "plot.ylabel('N pts affected')\n",
    "plot.savefig('Figure 3 - Histogram of points averaged.png')"
   ]
  },
  {
   "cell_type": "code",
   "execution_count": null,
   "metadata": {},
   "outputs": [],
   "source": []
  },
  {
   "cell_type": "code",
   "execution_count": 30,
   "metadata": {},
   "outputs": [
    {
     "data": {
      "image/png": "[encoded data removed]",
      "text/plain": [
       "<Figure size 864x432 with 2 Axes>"
      ]
     },
     "metadata": {},
     "output_type": "display_data"
    }
   ],
   "source": [
    "#4. Before - top figure BC time series, bottom figure ATN time series\n",
    "\n",
    "fig4 = plot.figure()\n",
    "\n",
    "# posix times and datetimes\n",
    "plot.subplot(211)\n",
    "yticks = [-2000,0,2000]\n",
    "plot.plot(BC_ONA[::10,0], BC_ONA[::10,1],linewidth=0.75)\n",
    "plot.yticks(yticks)\n",
    "plot.ylabel('BC (ng.$m^-$$^3$)')\n",
    "plot.tick_params(axis='both', which='both', bottom=False, top=False, labelbottom=False, right=False, left=False, labelleft=False)\n",
    "\n",
    "# posix times:\n",
    "plot.subplot(212)\n",
    "plot.plot(BC_ONA[::10,0], BC_ONA[::10,2],linewidth=0.75)\n",
    "plot.ylabel('ATN')\n",
    "plot.xlabel('Date')\n",
    "plot.tick_params(axis='both', which='both', bottom=False, top=False, labelbottom=False, right=False, left=False, labelleft=False)\n",
    "\n",
    "plot.savefig('Figure 4 - Before BC and ATN time series.png')"
   ]
  },
  {
   "cell_type": "code",
   "execution_count": 31,
   "metadata": {},
   "outputs": [
    {
     "data": {
      "image/png": "[encoded data removed]",
      "text/plain": [
       "<Figure size 864x432 with 3 Axes>"
      ]
     },
     "metadata": {
      "needs_background": "light"
     },
     "output_type": "display_data"
    }
   ],
   "source": [
    "#5 After - top figure BC and BC-ONA time series, bottom figure averaging time\n",
    "fig5 = plot.figure()\n",
    "plot.subplot(221)\n",
    "yticks = [-2000,0,2000]\n",
    "plot.yticks(yticks)\n",
    "plot.plot(BC_ONA[::10,0], BC_ONA[::10,1],color ='black',linewidth=0.5)\n",
    "plot.tick_params(axis='both', which='both', bottom=False, top=False, labelbottom=False, right=False, left=True, labelleft=False)\n",
    "plot.ylabel('average BC concentration (ng m^-^3)')\n",
    "plot.axis('equal')\n",
    "plot.subplot(222)\n",
    "\n",
    "plot.plot(BC_ONA_ATN[:,0], BC_ONA_ATN[:,1],color ='green', marker='o')\n",
    "plot.xlabel('time')\n",
    "plot.axis([min(BC_ONA_ATN[:,0]), max(BC_ONA_ATN[:,0]),0,300])\n",
    "plot.ylabel('average ONA BC concentration (ng.$m^-$$^3$)')\n",
    "\n",
    "plot.subplot(223)\n",
    "plot.plot(BC_ONA_ATN[:,0], BC_ONA_ATN[::,3],color ='blue',linewidth=1)\n",
    "plot.xlabel('time')\n",
    "plot.ylabel('# pts averaged')\n",
    "\n",
    "plot.savefig('Figure 5 - BC and BC-ONA time series.png')"
   ]
  },
  {
   "cell_type": "code",
   "execution_count": 32,
   "metadata": {},
   "outputs": [
    {
     "data": {
      "text/plain": [
       "array([[1.49677668e+09, 2.31219512e+01, 4.58900000e+00, 8.20000000e+01],\n",
       "       [1.49677674e+09, 2.31219512e+01, 4.59000000e+00, 8.20000000e+01],\n",
       "       [1.49677680e+09, 2.31219512e+01, 4.59100000e+00, 8.20000000e+01],\n",
       "       ...,\n",
       "       [1.49875920e+09, 2.77777778e+01, 1.19500000e+01, 9.00000000e+00],\n",
       "       [1.49875950e+09, 2.77777778e+01, 1.19540000e+01, 9.00000000e+00],\n",
       "       [1.49875980e+09, 2.77777778e+01, 1.19530000e+01, 9.00000000e+00]])"
      ]
     },
     "execution_count": 32,
     "metadata": {},
     "output_type": "execute_result"
    }
   ],
   "source": [
    "# Conversion of Numpy array to Pandas dataframe of BC_ONA_ATN\n",
    "BC_ONA_ATN"
   ]
  },
  {
   "cell_type": "code",
   "execution_count": 33,
   "metadata": {},
   "outputs": [],
   "source": [
    "Final_BC_ONA = pd.DataFrame({'Timestamp': BC_ONA_ATN[:,0],'BC ONA': BC_ONA_ATN[:,1],'ATN': BC_ONA_ATN[:,2],'Points averaged': BC_ONA_ATN[:,3],})"
   ]
  },
  {
   "cell_type": "code",
   "execution_count": 34,
   "metadata": {},
   "outputs": [
    {
     "data": {
      "text/html": [
       "<div>\n",
       "<style scoped>\n",
       "    .dataframe tbody tr th:only-of-type {\n",
       "        vertical-align: middle;\n",
       "    }\n",
       "\n",
       "    .dataframe tbody tr th {\n",
       "        vertical-align: top;\n",
       "    }\n",
       "\n",
       "    .dataframe thead th {\n",
       "        text-align: right;\n",
       "    }\n",
       "</style>\n",
       "<table border=\"1\" class=\"dataframe\">\n",
       "  <thead>\n",
       "    <tr style=\"text-align: right;\">\n",
       "      <th></th>\n",
       "      <th>Timestamp</th>\n",
       "      <th>BC ONA</th>\n",
       "      <th>ATN</th>\n",
       "      <th>Points averaged</th>\n",
       "    </tr>\n",
       "  </thead>\n",
       "  <tbody>\n",
       "    <tr>\n",
       "      <th>0</th>\n",
       "      <td>1.496777e+09</td>\n",
       "      <td>23.121951</td>\n",
       "      <td>4.589</td>\n",
       "      <td>82.0</td>\n",
       "    </tr>\n",
       "    <tr>\n",
       "      <th>1</th>\n",
       "      <td>1.496777e+09</td>\n",
       "      <td>23.121951</td>\n",
       "      <td>4.590</td>\n",
       "      <td>82.0</td>\n",
       "    </tr>\n",
       "    <tr>\n",
       "      <th>2</th>\n",
       "      <td>1.496777e+09</td>\n",
       "      <td>23.121951</td>\n",
       "      <td>4.591</td>\n",
       "      <td>82.0</td>\n",
       "    </tr>\n",
       "    <tr>\n",
       "      <th>3</th>\n",
       "      <td>1.496777e+09</td>\n",
       "      <td>23.121951</td>\n",
       "      <td>4.593</td>\n",
       "      <td>82.0</td>\n",
       "    </tr>\n",
       "    <tr>\n",
       "      <th>4</th>\n",
       "      <td>1.496777e+09</td>\n",
       "      <td>23.121951</td>\n",
       "      <td>4.594</td>\n",
       "      <td>82.0</td>\n",
       "    </tr>\n",
       "    <tr>\n",
       "      <th>...</th>\n",
       "      <td>...</td>\n",
       "      <td>...</td>\n",
       "      <td>...</td>\n",
       "      <td>...</td>\n",
       "    </tr>\n",
       "    <tr>\n",
       "      <th>10598</th>\n",
       "      <td>1.498759e+09</td>\n",
       "      <td>27.777778</td>\n",
       "      <td>11.946</td>\n",
       "      <td>9.0</td>\n",
       "    </tr>\n",
       "    <tr>\n",
       "      <th>10599</th>\n",
       "      <td>1.498759e+09</td>\n",
       "      <td>27.777778</td>\n",
       "      <td>11.949</td>\n",
       "      <td>9.0</td>\n",
       "    </tr>\n",
       "    <tr>\n",
       "      <th>10600</th>\n",
       "      <td>1.498759e+09</td>\n",
       "      <td>27.777778</td>\n",
       "      <td>11.950</td>\n",
       "      <td>9.0</td>\n",
       "    </tr>\n",
       "    <tr>\n",
       "      <th>10601</th>\n",
       "      <td>1.498760e+09</td>\n",
       "      <td>27.777778</td>\n",
       "      <td>11.954</td>\n",
       "      <td>9.0</td>\n",
       "    </tr>\n",
       "    <tr>\n",
       "      <th>10602</th>\n",
       "      <td>1.498760e+09</td>\n",
       "      <td>27.777778</td>\n",
       "      <td>11.953</td>\n",
       "      <td>9.0</td>\n",
       "    </tr>\n",
       "  </tbody>\n",
       "</table>\n",
       "<p>10603 rows × 4 columns</p>\n",
       "</div>"
      ],
      "text/plain": [
       "          Timestamp     BC ONA     ATN  Points averaged\n",
       "0      1.496777e+09  23.121951   4.589             82.0\n",
       "1      1.496777e+09  23.121951   4.590             82.0\n",
       "2      1.496777e+09  23.121951   4.591             82.0\n",
       "3      1.496777e+09  23.121951   4.593             82.0\n",
       "4      1.496777e+09  23.121951   4.594             82.0\n",
       "...             ...        ...     ...              ...\n",
       "10598  1.498759e+09  27.777778  11.946              9.0\n",
       "10599  1.498759e+09  27.777778  11.949              9.0\n",
       "10600  1.498759e+09  27.777778  11.950              9.0\n",
       "10601  1.498760e+09  27.777778  11.954              9.0\n",
       "10602  1.498760e+09  27.777778  11.953              9.0\n",
       "\n",
       "[10603 rows x 4 columns]"
      ]
     },
     "execution_count": 34,
     "metadata": {},
     "output_type": "execute_result"
    }
   ],
   "source": [
    "Final_BC_ONA"
   ]
  },
  {
   "cell_type": "code",
   "execution_count": 35,
   "metadata": {},
   "outputs": [],
   "source": [
    "# Check the number of occurencies of negative concentrations of BC:\n",
    "\n",
    "neg=Final_BC_ONA[['BC ONA']].agg(lambda x: sum(x < 0)).sum()"
   ]
  },
  {
   "cell_type": "code",
   "execution_count": 36,
   "metadata": {},
   "outputs": [
    {
     "data": {
      "text/plain": [
       "0"
      ]
     },
     "execution_count": 36,
     "metadata": {},
     "output_type": "execute_result"
    }
   ],
   "source": [
    "neg"
   ]
  },
  {
   "cell_type": "code",
   "execution_count": 37,
   "metadata": {},
   "outputs": [
    {
     "name": "stdout",
     "output_type": "stream",
     "text": [
      "10603\n"
     ]
    }
   ],
   "source": [
    "# Total number of concentrations values available for BC:\n",
    "total=len(Final_BC_ONA['BC ONA'])\n",
    "print(total)"
   ]
  },
  {
   "cell_type": "code",
   "execution_count": 38,
   "metadata": {},
   "outputs": [
    {
     "name": "stdout",
     "output_type": "stream",
     "text": [
      "The percentage of negative BC values in the dataset is 0 %.\n"
     ]
    }
   ],
   "source": [
    "# Calculate the percentage of BC negative values:\n",
    "pneg = neg/total*100\n",
    "print(\"The percentage of negative BC values in the dataset is\", pneg.round(0).astype(int), \"%.\" )"
   ]
  },
  {
   "cell_type": "code",
   "execution_count": 39,
   "metadata": {},
   "outputs": [
    {
     "data": {
      "text/html": [
       "<div>\n",
       "<style scoped>\n",
       "    .dataframe tbody tr th:only-of-type {\n",
       "        vertical-align: middle;\n",
       "    }\n",
       "\n",
       "    .dataframe tbody tr th {\n",
       "        vertical-align: top;\n",
       "    }\n",
       "\n",
       "    .dataframe thead th {\n",
       "        text-align: right;\n",
       "    }\n",
       "</style>\n",
       "<table border=\"1\" class=\"dataframe\">\n",
       "  <thead>\n",
       "    <tr style=\"text-align: right;\">\n",
       "      <th></th>\n",
       "      <th>Timestamp</th>\n",
       "      <th>BC ONA</th>\n",
       "      <th>ATN</th>\n",
       "      <th>Points averaged</th>\n",
       "    </tr>\n",
       "  </thead>\n",
       "  <tbody>\n",
       "    <tr>\n",
       "      <th>0</th>\n",
       "      <td>2017-06-06 19:18:00</td>\n",
       "      <td>23.121951</td>\n",
       "      <td>4.589</td>\n",
       "      <td>82.0</td>\n",
       "    </tr>\n",
       "    <tr>\n",
       "      <th>1</th>\n",
       "      <td>2017-06-06 19:19:00</td>\n",
       "      <td>23.121951</td>\n",
       "      <td>4.590</td>\n",
       "      <td>82.0</td>\n",
       "    </tr>\n",
       "    <tr>\n",
       "      <th>2</th>\n",
       "      <td>2017-06-06 19:20:00</td>\n",
       "      <td>23.121951</td>\n",
       "      <td>4.591</td>\n",
       "      <td>82.0</td>\n",
       "    </tr>\n",
       "    <tr>\n",
       "      <th>3</th>\n",
       "      <td>2017-06-06 19:21:00</td>\n",
       "      <td>23.121951</td>\n",
       "      <td>4.593</td>\n",
       "      <td>82.0</td>\n",
       "    </tr>\n",
       "    <tr>\n",
       "      <th>4</th>\n",
       "      <td>2017-06-06 19:22:00</td>\n",
       "      <td>23.121951</td>\n",
       "      <td>4.594</td>\n",
       "      <td>82.0</td>\n",
       "    </tr>\n",
       "    <tr>\n",
       "      <th>...</th>\n",
       "      <td>...</td>\n",
       "      <td>...</td>\n",
       "      <td>...</td>\n",
       "      <td>...</td>\n",
       "    </tr>\n",
       "    <tr>\n",
       "      <th>10598</th>\n",
       "      <td>2017-06-29 17:50:00</td>\n",
       "      <td>27.777778</td>\n",
       "      <td>11.946</td>\n",
       "      <td>9.0</td>\n",
       "    </tr>\n",
       "    <tr>\n",
       "      <th>10599</th>\n",
       "      <td>2017-06-29 17:55:00</td>\n",
       "      <td>27.777778</td>\n",
       "      <td>11.949</td>\n",
       "      <td>9.0</td>\n",
       "    </tr>\n",
       "    <tr>\n",
       "      <th>10600</th>\n",
       "      <td>2017-06-29 18:00:00</td>\n",
       "      <td>27.777778</td>\n",
       "      <td>11.950</td>\n",
       "      <td>9.0</td>\n",
       "    </tr>\n",
       "    <tr>\n",
       "      <th>10601</th>\n",
       "      <td>2017-06-29 18:05:00</td>\n",
       "      <td>27.777778</td>\n",
       "      <td>11.954</td>\n",
       "      <td>9.0</td>\n",
       "    </tr>\n",
       "    <tr>\n",
       "      <th>10602</th>\n",
       "      <td>2017-06-29 18:10:00</td>\n",
       "      <td>27.777778</td>\n",
       "      <td>11.953</td>\n",
       "      <td>9.0</td>\n",
       "    </tr>\n",
       "  </tbody>\n",
       "</table>\n",
       "<p>10603 rows × 4 columns</p>\n",
       "</div>"
      ],
      "text/plain": [
       "                Timestamp     BC ONA     ATN  Points averaged\n",
       "0     2017-06-06 19:18:00  23.121951   4.589             82.0\n",
       "1     2017-06-06 19:19:00  23.121951   4.590             82.0\n",
       "2     2017-06-06 19:20:00  23.121951   4.591             82.0\n",
       "3     2017-06-06 19:21:00  23.121951   4.593             82.0\n",
       "4     2017-06-06 19:22:00  23.121951   4.594             82.0\n",
       "...                   ...        ...     ...              ...\n",
       "10598 2017-06-29 17:50:00  27.777778  11.946              9.0\n",
       "10599 2017-06-29 17:55:00  27.777778  11.949              9.0\n",
       "10600 2017-06-29 18:00:00  27.777778  11.950              9.0\n",
       "10601 2017-06-29 18:05:00  27.777778  11.954              9.0\n",
       "10602 2017-06-29 18:10:00  27.777778  11.953              9.0\n",
       "\n",
       "[10603 rows x 4 columns]"
      ]
     },
     "execution_count": 39,
     "metadata": {},
     "output_type": "execute_result"
    }
   ],
   "source": [
    "# Conversion of timestamp from Posix to Year-Month-Day Hour:Minute\n",
    "Final_BC_ONA['Timestamp'] = pd.to_datetime(Final_BC_ONA['Timestamp'],unit='s', dayfirst=True )\n",
    "Final_BC_ONA"
   ]
  },
  {
   "cell_type": "code",
   "execution_count": 40,
   "metadata": {},
   "outputs": [
    {
     "data": {
      "text/html": [
       "<div>\n",
       "<style scoped>\n",
       "    .dataframe tbody tr th:only-of-type {\n",
       "        vertical-align: middle;\n",
       "    }\n",
       "\n",
       "    .dataframe tbody tr th {\n",
       "        vertical-align: top;\n",
       "    }\n",
       "\n",
       "    .dataframe thead th {\n",
       "        text-align: right;\n",
       "    }\n",
       "</style>\n",
       "<table border=\"1\" class=\"dataframe\">\n",
       "  <thead>\n",
       "    <tr style=\"text-align: right;\">\n",
       "      <th></th>\n",
       "      <th>Timestamp</th>\n",
       "      <th>BC ONA</th>\n",
       "      <th>ATN</th>\n",
       "      <th>Points averaged</th>\n",
       "    </tr>\n",
       "  </thead>\n",
       "  <tbody>\n",
       "    <tr>\n",
       "      <th>0</th>\n",
       "      <td>2017-06-06 19:18:00</td>\n",
       "      <td>23.121951</td>\n",
       "      <td>4.589</td>\n",
       "      <td>82.0</td>\n",
       "    </tr>\n",
       "    <tr>\n",
       "      <th>1</th>\n",
       "      <td>2017-06-06 19:19:00</td>\n",
       "      <td>23.121951</td>\n",
       "      <td>4.590</td>\n",
       "      <td>82.0</td>\n",
       "    </tr>\n",
       "    <tr>\n",
       "      <th>2</th>\n",
       "      <td>2017-06-06 19:20:00</td>\n",
       "      <td>23.121951</td>\n",
       "      <td>4.591</td>\n",
       "      <td>82.0</td>\n",
       "    </tr>\n",
       "    <tr>\n",
       "      <th>3</th>\n",
       "      <td>2017-06-06 19:21:00</td>\n",
       "      <td>23.121951</td>\n",
       "      <td>4.593</td>\n",
       "      <td>82.0</td>\n",
       "    </tr>\n",
       "    <tr>\n",
       "      <th>4</th>\n",
       "      <td>2017-06-06 19:22:00</td>\n",
       "      <td>23.121951</td>\n",
       "      <td>4.594</td>\n",
       "      <td>82.0</td>\n",
       "    </tr>\n",
       "    <tr>\n",
       "      <th>...</th>\n",
       "      <td>...</td>\n",
       "      <td>...</td>\n",
       "      <td>...</td>\n",
       "      <td>...</td>\n",
       "    </tr>\n",
       "    <tr>\n",
       "      <th>6173</th>\n",
       "      <td>2017-11-06 12:58:00</td>\n",
       "      <td>6.637965</td>\n",
       "      <td>6.586</td>\n",
       "      <td>511.0</td>\n",
       "    </tr>\n",
       "    <tr>\n",
       "      <th>6174</th>\n",
       "      <td>2017-11-06 12:59:00</td>\n",
       "      <td>6.637965</td>\n",
       "      <td>6.587</td>\n",
       "      <td>511.0</td>\n",
       "    </tr>\n",
       "    <tr>\n",
       "      <th>6175</th>\n",
       "      <td>2017-11-06 13:00:00</td>\n",
       "      <td>6.637965</td>\n",
       "      <td>6.588</td>\n",
       "      <td>511.0</td>\n",
       "    </tr>\n",
       "    <tr>\n",
       "      <th>6176</th>\n",
       "      <td>2017-11-06 13:01:00</td>\n",
       "      <td>6.637965</td>\n",
       "      <td>6.587</td>\n",
       "      <td>511.0</td>\n",
       "    </tr>\n",
       "    <tr>\n",
       "      <th>6177</th>\n",
       "      <td>2017-11-06 13:02:00</td>\n",
       "      <td>6.637965</td>\n",
       "      <td>6.587</td>\n",
       "      <td>511.0</td>\n",
       "    </tr>\n",
       "  </tbody>\n",
       "</table>\n",
       "<p>6178 rows × 4 columns</p>\n",
       "</div>"
      ],
      "text/plain": [
       "               Timestamp     BC ONA    ATN  Points averaged\n",
       "0    2017-06-06 19:18:00  23.121951  4.589             82.0\n",
       "1    2017-06-06 19:19:00  23.121951  4.590             82.0\n",
       "2    2017-06-06 19:20:00  23.121951  4.591             82.0\n",
       "3    2017-06-06 19:21:00  23.121951  4.593             82.0\n",
       "4    2017-06-06 19:22:00  23.121951  4.594             82.0\n",
       "...                  ...        ...    ...              ...\n",
       "6173 2017-11-06 12:58:00   6.637965  6.586            511.0\n",
       "6174 2017-11-06 12:59:00   6.637965  6.587            511.0\n",
       "6175 2017-11-06 13:00:00   6.637965  6.588            511.0\n",
       "6176 2017-11-06 13:01:00   6.637965  6.587            511.0\n",
       "6177 2017-11-06 13:02:00   6.637965  6.587            511.0\n",
       "\n",
       "[6178 rows x 4 columns]"
      ]
     },
     "execution_count": 40,
     "metadata": {},
     "output_type": "execute_result"
    }
   ],
   "source": [
    "# This conversion of the timestamp did not works properly (problems with days/months). \n",
    "Final_BC_ONA.head(6178)"
   ]
  },
  {
   "cell_type": "code",
   "execution_count": 41,
   "metadata": {},
   "outputs": [],
   "source": [
    "# Therefore, in order to avoid any problems with dates, the original timestamp from the initial input csv will be used."
   ]
  },
  {
   "cell_type": "code",
   "execution_count": 42,
   "metadata": {},
   "outputs": [],
   "source": [
    "# Histogram of ONA BC data"
   ]
  },
  {
   "cell_type": "code",
   "execution_count": 43,
   "metadata": {},
   "outputs": [],
   "source": [
    "Hist_BC_ONA=Final_BC_ONA[['BC ONA']]"
   ]
  },
  {
   "cell_type": "code",
   "execution_count": null,
   "metadata": {},
   "outputs": [],
   "source": []
  },
  {
   "cell_type": "code",
   "execution_count": 44,
   "metadata": {},
   "outputs": [
    {
     "data": {
      "image/png": "[encoded data removed]",
      "text/plain": [
       "<Figure size 864x432 with 1 Axes>"
      ]
     },
     "metadata": {
      "needs_background": "light"
     },
     "output_type": "display_data"
    }
   ],
   "source": [
    "fig6 = Hist_BC_ONA.plot.hist(range=[-5, 115],bins=[-5, 0,5,10,15, 20,25, 30,35, 40,45, 50,55,60,65,70,75,80,85,90,95, 100, 105, 110, 115], title = 'Histogram of ONA BC data')\n",
    "fig6.set_xlabel('BC Concentration (ng.$m^-$$^3$)')\n",
    "\n",
    "# To save the figure\n",
    "plot.savefig('Figure 6 - Histogram of ONA BC data')"
   ]
  },
  {
   "cell_type": "code",
   "execution_count": 45,
   "metadata": {},
   "outputs": [],
   "source": [
    "# Check the histogram using a narrow timeframe:"
   ]
  },
  {
   "cell_type": "code",
   "execution_count": null,
   "metadata": {},
   "outputs": [],
   "source": []
  },
  {
   "cell_type": "code",
   "execution_count": 46,
   "metadata": {},
   "outputs": [
    {
     "data": {
      "image/png": "[encoded data removed]",
      "text/plain": [
       "<Figure size 864x432 with 1 Axes>"
      ]
     },
     "metadata": {
      "needs_background": "light"
     },
     "output_type": "display_data"
    }
   ],
   "source": [
    "fig7 = Hist_BC_ONA.plot.hist(range=[0, 20], bins=[0,1,2,3,4,5,6,7,8,9,10,11,12,13,14,15,16,17,18,19,20],title = 'Histogram of selected ONA BC data')\n",
    "fig7.set_xlabel('BC Concentration (ng.$m^-$$^3$)')\n",
    "\n",
    "# To save the figure\n",
    "plot.savefig('Figure 7 - Histogram of selected ONA BC data')"
   ]
  },
  {
   "cell_type": "code",
   "execution_count": 47,
   "metadata": {},
   "outputs": [],
   "source": [
    "# Goal: compare BC concentrations before and after ONA correction"
   ]
  },
  {
   "cell_type": "code",
   "execution_count": 48,
   "metadata": {},
   "outputs": [],
   "source": [
    "# 2.1. How to create a new dataframe (BC_ba: before and after) with the timestamp, BC data before and after correction, ATN and number of averaged points:"
   ]
  },
  {
   "cell_type": "code",
   "execution_count": null,
   "metadata": {},
   "outputs": [],
   "source": []
  },
  {
   "cell_type": "code",
   "execution_count": 49,
   "metadata": {},
   "outputs": [
    {
     "data": {
      "text/plain": [
       "Timestamp           object\n",
       "BC                 float64\n",
       "BC ONA             float64\n",
       "ATN                float64\n",
       "Points averaged    float64\n",
       "dtype: object"
      ]
     },
     "execution_count": 49,
     "metadata": {},
     "output_type": "execute_result"
    }
   ],
   "source": [
    "# 2.1.1. In order to avoid problems with the \"timestamp\", use the time collumn from the original csv file:\n",
    "Initial_BC = pd.read_csv('2017_BC_ONA_966.csv', names=['Timestamp','BC','ATN'])\n",
    "\n",
    "# 2.1.2. Create the new dataframe:\n",
    "BC_ba = Initial_BC[['Timestamp']].join(Initial_BC[['BC']].join(Final_BC_ONA[['BC ONA']].join(Final_BC_ONA[['ATN']].join(Final_BC_ONA[['Points averaged']]))))\n",
    "\n",
    "# 2.1.3. \"BC\" is not in the correct format (float) but it is in the \"object\" format. To change:\n",
    "BC_ba[\"BC\"] = BC_ba.BC.astype(float)\n",
    "\n",
    "# 2.1.4. Check data types:\n",
    "BC_ba.dtypes"
   ]
  },
  {
   "cell_type": "code",
   "execution_count": 50,
   "metadata": {},
   "outputs": [
    {
     "data": {
      "image/png": "[encoded data removed]",
      "text/plain": [
       "<Figure size 864x432 with 1 Axes>"
      ]
     },
     "metadata": {
      "needs_background": "light"
     },
     "output_type": "display_data"
    },
    {
     "data": {
      "image/png": "[encoded data removed]",
      "text/plain": [
       "<Figure size 864x432 with 1 Axes>"
      ]
     },
     "metadata": {
      "needs_background": "light"
     },
     "output_type": "display_data"
    }
   ],
   "source": [
    "# 3. Graphs of BC before and after of ONA implementation:\n",
    "\n",
    "fig8 = BC_ba.plot('Timestamp', 'BC', title = 'Raw BC data during June2017 monitoring campaign',\n",
    "                   ylim=[-2000,2500])\n",
    "fig8.set_xlabel('Date')\n",
    "fig8.set_ylabel('BC Concentration (ng.$m^-$$^3$)')\n",
    "fig8.grid(True)\n",
    "\n",
    "# To save the figure\n",
    "plot.savefig('Figure 8 - Raw BC data')\n",
    "\n",
    "fig9 = BC_ba.plot('Timestamp', 'BC ONA', title = 'Corrected BC data during June2017 monitoring campaign',\n",
    "                   ylim=[0,120])\n",
    "fig9.set_xlabel('Date')\n",
    "fig9.set_ylabel('BC Concentration (ng.$m^-$$^3$)')\n",
    "fig9.grid(True)\n",
    "\n",
    "# To save the figure\n",
    "plot.savefig('Figure 9 - ONA corrected BC data')"
   ]
  },
  {
   "cell_type": "code",
   "execution_count": 52,
   "metadata": {},
   "outputs": [
    {
     "data": {
      "image/png": "[encoded data removed]",
      "text/plain": [
       "<Figure size 864x432 with 1 Axes>"
      ]
     },
     "metadata": {
      "needs_background": "light"
     },
     "output_type": "display_data"
    }
   ],
   "source": [
    "# 4. Graph of ATN\n",
    "\n",
    "fig10 = BC_ba.plot('Timestamp', 'ATN', title = 'ATN during June2017 monitoring campaign',\n",
    "                   ylim=[4,12.5])\n",
    "fig10.set_xlabel('Date')\n",
    "fig10.set_ylabel('Attenuation')\n",
    "fig10.grid(True)\n",
    "\n",
    "plot.savefig('Figure 10 - Attenuation during monitoring period')"
   ]
  },
  {
   "cell_type": "code",
   "execution_count": 53,
   "metadata": {},
   "outputs": [],
   "source": [
    "# 5. Writing and saving file with all data\n",
    "\n",
    "# This final csv file will have 5 different collumns: Timestamp, BC, BC ONA, ATN and Points averaged:\n",
    "\n",
    "selection = BC_ba\n",
    "\n",
    "output_selection = 'BC_ba_ONA_final.csv'\n",
    "\n",
    "# Save dataframe to csv\n",
    "selection.to_csv(output_selection, sep=',', index = False)\n",
    "\n",
    "# \"index = False\" will remove the column index"
   ]
  },
  {
   "cell_type": "code",
   "execution_count": 54,
   "metadata": {},
   "outputs": [
    {
     "name": "stdout",
     "output_type": "stream",
     "text": [
      "                 BC        BC ONA           ATN  Points averaged\n",
      "count  10603.000000  10603.000000  10603.000000     10603.000000\n",
      "mean      11.251155     11.251155      7.017789       466.828162\n",
      "std       53.961454     13.002676      1.960905       580.821353\n",
      "min    -1672.000000      1.073604      4.589000         4.000000\n",
      "25%       -4.500000      3.844728      5.654000        70.000000\n",
      "50%       12.000000      6.599291      6.192000       268.000000\n",
      "75%       29.000000     14.862069      8.657000       511.000000\n",
      "max     2024.000000    111.000000     11.954000      1726.000000\n"
     ]
    }
   ],
   "source": [
    "# 6. Get descritive statistics summary only for \"Temp\":\n",
    "stats = BC_ba[['BC','BC ONA','ATN','Points averaged']].describe()\n",
    "print(stats)"
   ]
  },
  {
   "cell_type": "code",
   "execution_count": 55,
   "metadata": {},
   "outputs": [],
   "source": [
    "# At the end of the script, the working folder should have the input file (csv), the output file with all data (csv) and 10 Figures regarding the "
   ]
  },
  {
   "cell_type": "code",
   "execution_count": 56,
   "metadata": {},
   "outputs": [],
   "source": [
    "# the performance of the ONA algorithm, raw and corrected data."
   ]
  },
  {
   "cell_type": "code",
   "execution_count": 57,
   "metadata": {},
   "outputs": [],
   "source": [
    "# The end!"
   ]
  },
  {
   "cell_type": "code",
   "execution_count": null,
   "metadata": {},
   "outputs": [],
   "source": []
  },
  {
   "cell_type": "code",
   "execution_count": null,
   "metadata": {},
   "outputs": [],
   "source": []
  },
  {
   "cell_type": "code",
   "execution_count": null,
   "metadata": {},
   "outputs": [],
   "source": []
  },
  {
   "cell_type": "code",
   "execution_count": null,
   "metadata": {},
   "outputs": [],
   "source": []
  },
  {
   "cell_type": "code",
   "execution_count": null,
   "metadata": {},
   "outputs": [],
   "source": []
  },
  {
   "cell_type": "code",
   "execution_count": null,
   "metadata": {},
   "outputs": [],
   "source": []
  },
  {
   "cell_type": "code",
   "execution_count": null,
   "metadata": {},
   "outputs": [],
   "source": []
  },
  {
   "cell_type": "code",
   "execution_count": null,
   "metadata": {},
   "outputs": [],
   "source": []
  },
  {
   "cell_type": "code",
   "execution_count": null,
   "metadata": {},
   "outputs": [],
   "source": []
  },
  {
   "cell_type": "code",
   "execution_count": null,
   "metadata": {},
   "outputs": [],
   "source": []
  },
  {
   "cell_type": "code",
   "execution_count": null,
   "metadata": {},
   "outputs": [],
   "source": []
  },
  {
   "cell_type": "code",
   "execution_count": null,
   "metadata": {},
   "outputs": [],
   "source": []
  },
  {
   "cell_type": "code",
   "execution_count": null,
   "metadata": {},
   "outputs": [],
   "source": []
  },
  {
   "cell_type": "code",
   "execution_count": null,
   "metadata": {},
   "outputs": [],
   "source": []
  },
  {
   "cell_type": "code",
   "execution_count": null,
   "metadata": {},
   "outputs": [],
   "source": []
  },
  {
   "cell_type": "code",
   "execution_count": null,
   "metadata": {},
   "outputs": [],
   "source": []
  },
  {
   "cell_type": "code",
   "execution_count": null,
   "metadata": {},
   "outputs": [],
   "source": []
  }
 ],
 "metadata": {
  "kernelspec": {
   "display_name": "Python 3",
   "language": "python",
   "name": "python3"
  },
  "language_info": {
   "codemirror_mode": {
    "name": "ipython",
    "version": 3
   },
   "file_extension": ".py",
   "mimetype": "text/x-python",
   "name": "python",
   "nbconvert_exporter": "python",
   "pygments_lexer": "ipython3",
   "version": "3.7.6"
  }
 },
 "nbformat": 4,
 "nbformat_minor": 4
}
