{
 "cells": [
  {
   "cell_type": "code",
   "execution_count": 1,
   "metadata": {},
   "outputs": [],
   "source": [
    "# ONA for Python - Noise reduction in Black Carbon data | version 01 (May 2020)\n",
    "\n",
    "# ONA is the Optimized Noise reduction Averaging (ONA) algorithm developed by Hagler et al. (2011) to reduce the occurence\n",
    "# negative values of BC data while preserving the significant dynamics trends in the time series. More information about ONA can be found in:\n",
    "\n",
    "# Hagler GSW, Yelverton TLB, Vedantham R, Hansen ADA, Turner JR (2011) Post-processing Method to Reduce Noise while Preserving High Time Resolution\n",
    "# in Aethalometer Real-time Black Carbon Data. Aerosol and Air Quality Research 11, 539–546. doi: 10.4209/aaqr.2011.05.0055\n",
    "\n",
    "# The original algorithm was developed in MatLab code and this script aims to implement in Python code"
   ]
  },
  {
   "cell_type": "code",
   "execution_count": 2,
   "metadata": {},
   "outputs": [],
   "source": [
    "# This program will look for positive (and final) changes in ATN throughout the data. This code\n",
    "# anticipates that a variable named “BC_ONA” has already been created and has the following\n",
    "# columns – 1) serial timestamp, 2) original BC concentrations, and 3) original ATN values."
   ]
  },
  {
   "cell_type": "code",
   "execution_count": 4,
   "metadata": {},
   "outputs": [],
   "source": [
    "# The example used in this code is regarding BC data obtained by a microAeth® AE51 (from ARTHLABS) \n",
    "# in a monitoring campaign in Greeland."
   ]
  },
  {
   "cell_type": "code",
   "execution_count": 5,
   "metadata": {},
   "outputs": [],
   "source": [
    "import numpy as np"
   ]
  },
  {
   "cell_type": "code",
   "execution_count": 6,
   "metadata": {},
   "outputs": [],
   "source": [
    "import matplotlib.pyplot as plot"
   ]
  },
  {
   "cell_type": "code",
   "execution_count": 7,
   "metadata": {},
   "outputs": [],
   "source": [
    "import csv"
   ]
  },
  {
   "cell_type": "code",
   "execution_count": 8,
   "metadata": {},
   "outputs": [],
   "source": [
    "import time"
   ]
  },
  {
   "cell_type": "code",
   "execution_count": 9,
   "metadata": {},
   "outputs": [],
   "source": [
    "import pandas as pd"
   ]
  },
  {
   "cell_type": "code",
   "execution_count": 10,
   "metadata": {},
   "outputs": [],
   "source": [
    "# Check your working folder by using \"pwd\" and then \"cd 'path'\" to enter in the desired folder"
   ]
  },
  {
   "cell_type": "code",
   "execution_count": 11,
   "metadata": {},
   "outputs": [
    {
     "data": {
      "text/plain": [
       "'C:\\\\Users\\\\Nuno Canha\\\\Desktop\\\\Python\\\\Geo\\\\Notebooks'"
      ]
     },
     "execution_count": 11,
     "metadata": {},
     "output_type": "execute_result"
    }
   ],
   "source": [
    "pwd"
   ]
  },
  {
   "cell_type": "code",
   "execution_count": 12,
   "metadata": {},
   "outputs": [
    {
     "name": "stdout",
     "output_type": "stream",
     "text": [
      "C:\\Users\\Nuno Canha\\Desktop\\Python\\BC\\Test01\n"
     ]
    }
   ],
   "source": [
    "cd C:\\Users\\Nuno Canha\\Desktop\\Python\\BC\\Test01"
   ]
  },
  {
   "cell_type": "code",
   "execution_count": 13,
   "metadata": {},
   "outputs": [
    {
     "data": {
      "text/plain": [
       "'C:\\\\Users\\\\Nuno Canha\\\\Desktop\\\\Python\\\\BC\\\\Test01'"
      ]
     },
     "execution_count": 13,
     "metadata": {},
     "output_type": "execute_result"
    }
   ],
   "source": [
    "pwd"
   ]
  },
  {
   "cell_type": "code",
   "execution_count": 88,
   "metadata": {},
   "outputs": [],
   "source": [
    "# Preparing data\n",
    "\n",
    "fields = [] \n",
    "rows = [] "
   ]
  },
  {
   "cell_type": "code",
   "execution_count": 89,
   "metadata": {},
   "outputs": [],
   "source": [
    "with open('2017_BC_ONA_966.csv') as f:\n",
    "    csvreader = csv.reader(f) \n",
    "    fields = next(csvreader)\n",
    "    # extracting each data row one by one \n",
    "    for row in csvreader: \n",
    "        rows.append(row)"
   ]
  },
  {
   "cell_type": "code",
   "execution_count": 90,
   "metadata": {},
   "outputs": [],
   "source": [
    "data = np.array(rows)\n",
    "b= []\n",
    "data_times =[]\n",
    "for i in range(len(data[:,0])):\n",
    "    a=pd.to_datetime(data[i,0])\n",
    "    b.append(a)\n",
    "    \n",
    "    # Time as posix\n",
    "    data_times.append(time.mktime(a.timetuple()))"
   ]
  },
  {
   "cell_type": "code",
   "execution_count": 91,
   "metadata": {},
   "outputs": [],
   "source": [
    "# First column is datetime:\n",
    "data_times = np.array(data_times)\n",
    "\n",
    "# Second column is black carbon data (BC):\n",
    "bc = data[:,1]\n",
    "\n",
    "# Third column is attenuation data (atn):\n",
    "atn = data[:,2]\n",
    "\n",
    "# Create three column BC_ONA matrix: \n",
    "BC_ONA = np.array([data_times,bc,atn])\n",
    "BC_ONA = BC_ONA.transpose()"
   ]
  },
  {
   "cell_type": "code",
   "execution_count": 92,
   "metadata": {},
   "outputs": [],
   "source": [
    "# Create new variable\n",
    "BC_ONA_ATN=BC_ONA"
   ]
  },
  {
   "cell_type": "code",
   "execution_count": 104,
   "metadata": {},
   "outputs": [],
   "source": [
    "# Find filter change points\n",
    "temp = np.zeros([len(BC_ONA)-1,1])\n",
    "for i in range(len(BC_ONA)-1):\n",
    "    temp[i,0] = abs(float(BC_ONA_ATN[i+1,2])-float(BC_ONA_ATN[i,2]))\n",
    "temp1= np.array(np.where(temp[:,0]>30))\n",
    "if temp1.size == 0 :\n",
    "    filtchange = np.array([0])\n",
    "    filtchange = np.append(filtchange,len(BC_ONA_ATN))\n",
    "else:\n",
    "    filtchange = np.array([[0],[len(BC_ONA_ATN)]])\n",
    "del i,temp1"
   ]
  },
  {
   "cell_type": "code",
   "execution_count": 105,
   "metadata": {},
   "outputs": [
    {
     "data": {
      "text/plain": [
       "array([[0.001],\n",
       "       [0.001],\n",
       "       [0.002],\n",
       "       ...,\n",
       "       [0.001],\n",
       "       [0.004],\n",
       "       [0.001]])"
      ]
     },
     "execution_count": 105,
     "metadata": {},
     "output_type": "execute_result"
    }
   ],
   "source": [
    "# Check the new variable \"temp\" that contains the ATN changes between BC measures\n",
    "temp"
   ]
  },
  {
   "cell_type": "code",
   "execution_count": 95,
   "metadata": {},
   "outputs": [
    {
     "data": {
      "text/plain": [
       "10602"
      ]
     },
     "execution_count": 95,
     "metadata": {},
     "output_type": "execute_result"
    }
   ],
   "source": [
    "len(temp)"
   ]
  },
  {
   "cell_type": "code",
   "execution_count": 107,
   "metadata": {},
   "outputs": [
    {
     "data": {
      "text/plain": [
       "2"
      ]
     },
     "execution_count": 107,
     "metadata": {},
     "output_type": "execute_result"
    }
   ],
   "source": [
    "len(BC_ONA_ATN)"
   ]
  },
  {
   "cell_type": "code",
   "execution_count": 97,
   "metadata": {},
   "outputs": [],
   "source": [
    "# Define the ATN default incremental value\n",
    "delATN=0.05"
   ]
  },
  {
   "cell_type": "code",
   "execution_count": 98,
   "metadata": {},
   "outputs": [],
   "source": [
    "# Calculate smoothed BC\n",
    "temp = np.zeros([len(BC_ONA_ATN),4])\n",
    "temp[:,:-1] = BC_ONA_ATN\n",
    "BC_ONA_ATN = temp\n",
    "del temp\n",
    "BC_ONA_ATN[:,3] = 1\n",
    "temp = np.array([])\n",
    "for i in range(len(BC_ONA_ATN[:,2])):\n",
    "    if BC_ONA_ATN[i,2] != '-':\n",
    "        temp2 = float(BC_ONA[i,2]) \n",
    "        temp = np.append(temp,temp2)  \n",
    "        del temp2\n",
    "for k in range(len(filtchange)-1):\n",
    "    j = filtchange[k] #set to first point after filter change\n",
    "    j = int(j)\n",
    "    for i in range(j,len(BC_ONA_ATN)):\n",
    "        if j<filtchange[k+1]:\n",
    "            if i==j:\n",
    "                des_ind =np.where(temp[j+1:len(BC_ONA_ATN)]<=(temp[j]+delATN))\n",
    "                temp2 = des_ind[-1]\n",
    "                # des_ind = des_ind[-1]\n",
    "                # if len(des_ind) == 0:\n",
    "                if len(temp2) != 0:\n",
    "                    \n",
    "                    # Calculated smoothed new BC\n",
    "                    BC_ONA_ATN[j:temp2[-1]+j,1]=np.nanmean(BC_ONA_ATN[j:temp2[-1]+j,1])\n",
    "                    \n",
    "                    # Calculate averaging period\n",
    "                    BC_ONA_ATN[j:temp2[-1]+j+1,3]=len(BC_ONA_ATN[j:temp2[-1]+j,1])\n",
    "                    j = j+temp2[-1]+1\n",
    "                else:\n",
    "                    j = j+1\n",
    "del filtchange"
   ]
  },
  {
   "cell_type": "code",
   "execution_count": 99,
   "metadata": {},
   "outputs": [
    {
     "data": {
      "text/plain": [
       "array([[ 1.49677668e+09,  2.27875000e+01,  4.58900000e+00,\n",
       "         8.00000000e+01],\n",
       "       [ 1.49677674e+09,  2.27875000e+01,  4.59000000e+00,\n",
       "         8.00000000e+01],\n",
       "       [ 1.49677680e+09,  2.27875000e+01,  4.59100000e+00,\n",
       "         8.00000000e+01],\n",
       "       ...,\n",
       "       [ 1.49875920e+09,  3.13333333e+01,  1.19500000e+01,\n",
       "         6.00000000e+00],\n",
       "       [ 1.49875950e+09,  3.10000000e+01,  1.19540000e+01,\n",
       "         6.00000000e+00],\n",
       "       [ 1.49875980e+09, -6.00000000e+00,  1.19530000e+01,\n",
       "         1.00000000e+00]])"
      ]
     },
     "execution_count": 99,
     "metadata": {},
     "output_type": "execute_result"
    }
   ],
   "source": [
    "# The variable \"BC_ONA_ATN\" contains now 4 different collumns: \"Time\" (as posix), \"Corrected BC\", \"ATN\" and \"points average\"\n",
    "BC_ONA_ATN"
   ]
  },
  {
   "cell_type": "code",
   "execution_count": 100,
   "metadata": {},
   "outputs": [],
   "source": [
    "# METRICS OF SMOOTHING PERFORMANCE \n",
    "# The code from this point forwards only displays the results and does not do any data alteration."
   ]
  },
  {
   "cell_type": "code",
   "execution_count": 101,
   "metadata": {},
   "outputs": [
    {
     "name": "stdout",
     "output_type": "stream",
     "text": [
      "Fraction of negative values in original dataset =  0.30104687352636045\n",
      "Fraction of negative values after ONA correction =  0.0019805715363576345\n"
     ]
    }
   ],
   "source": [
    "#1. Reduction of negatives - fraction in original vs. remaining\n",
    "temp2 = 0\n",
    "temp3 = 0\n",
    "\n",
    "for i in range(len(BC_ONA[:,1])):\n",
    "    if BC_ONA_ATN[i,1] != '':\n",
    "        if float(BC_ONA[i,1])<0:\n",
    "            temp2 += 1\n",
    "    if BC_ONA_ATN[i,1] != '-':\n",
    "            if float(BC_ONA_ATN[i,1])<0:\n",
    "             temp3 += 1     \n",
    "\n",
    "numneg_org=temp2/len(BC_ONA[:,1])\n",
    "numneg_filt=temp3/len(BC_ONA[:,1])\n",
    "del temp2,temp3\n",
    "print(\"Fraction of negative values in original dataset = \",numneg_org)\n",
    "print(\"Fraction of negative values after ONA correction = \",numneg_filt)\n",
    "del numneg_org,numneg_filt"
   ]
  },
  {
   "cell_type": "code",
   "execution_count": 109,
   "metadata": {},
   "outputs": [
    {
     "data": {
      "image/png": "[encoded data removed]",
      "text/plain": [
       "<Figure size 864x432 with 1 Axes>"
      ]
     },
     "metadata": {
      "needs_background": "light"
     },
     "output_type": "display_data"
    }
   ],
   "source": [
    "#2. Reduction of noise\n",
    "\n",
    "temp = np.zeros([len(BC_ONA)-1,2])\n",
    "for i in range(len(BC_ONA)-1):\n",
    "    if BC_ONA_ATN[i,1] != '' and BC_ONA_ATN[i+1,1] != '':\n",
    "        temp[i,0]=abs(float(BC_ONA[i+1,1])-float(BC_ONA[i,1]))\n",
    "    if BC_ONA_ATN[i,1] != '-' and BC_ONA_ATN[i+1,1] != '-':\n",
    "        temp[i,1]=abs(float(BC_ONA_ATN[i+1,1])-float(BC_ONA_ATN[i,1]))\n",
    "\n",
    "noise = np.array([np.nanmean(temp[:,0]),np.nanmean(temp[:,1])])\n",
    "langs = ['Original dataset','ONA corrected dataset']\n",
    "fig = plot.figure()\n",
    "plot.bar(langs,noise)\n",
    "plot.title ('Reduction of Noise between BC measurements')\n",
    "plot.ylabel('Avg Abs BC$_{t+1 - t}$ (ng.$m^-$$^3$)')\n",
    "plot.rcParams['figure.figsize']=[12,6]\n",
    "plot.savefig('Noise Reduction.png')"
   ]
  },
  {
   "cell_type": "code",
   "execution_count": 113,
   "metadata": {},
   "outputs": [
    {
     "data": {
      "text/plain": [
       "Text(0, 0.5, 'avg timebase (s)')"
      ]
     },
     "execution_count": 113,
     "metadata": {},
     "output_type": "execute_result"
    },
    {
     "data": {
      "image/png": "[encoded data removed]",
      "text/plain": [
       "<Figure size 864x432 with 1 Axes>"
      ]
     },
     "metadata": {
      "needs_background": "light"
     },
     "output_type": "display_data"
    }
   ],
   "source": [
    "#3. Averaging interval and histogram of points averaged\n",
    "\n",
    "time_inc = abs(float(BC_ONA[1,0])-float(BC_ONA[0,0]))\n",
    "temp = BC_ONA_ATN[:,3].astype(np.float)\n",
    "timeavg = np.array([time_inc,np.nanmean(temp)*time_inc])\n",
    "fig2 = plot.figure()\n",
    "plot.title ('Averaged time after ONA correction')\n",
    "plot.bar(langs,timeavg)\n",
    "plot.ylabel('avg timebase (s)')"
   ]
  },
  {
   "cell_type": "code",
   "execution_count": 114,
   "metadata": {},
   "outputs": [
    {
     "data": {
      "text/plain": [
       "Text(0, 0.5, 'N pts affected')"
      ]
     },
     "execution_count": 114,
     "metadata": {},
     "output_type": "execute_result"
    },
    {
     "data": {
      "image/png": "[encoded data removed]",
      "text/plain": [
       "<Figure size 864x432 with 1 Axes>"
      ]
     },
     "metadata": {
      "needs_background": "light"
     },
     "output_type": "display_data"
    }
   ],
   "source": [
    "del time_inc,temp,timeavg\n",
    "fig3 = plot.figure()\n",
    "plot.hist(BC_ONA_ATN[:,3], bins = 10)\n",
    "plot.title ('Histogram of points averaged')\n",
    "plot.xlabel('# pts averaged')\n",
    "plot.ylabel('N pts affected')"
   ]
  },
  {
   "cell_type": "code",
   "execution_count": null,
   "metadata": {},
   "outputs": [],
   "source": []
  },
  {
   "cell_type": "code",
   "execution_count": 118,
   "metadata": {},
   "outputs": [
    {
     "data": {
      "image/png": "[encoded data removed]",
      "text/plain": [
       "<Figure size 864x432 with 2 Axes>"
      ]
     },
     "metadata": {},
     "output_type": "display_data"
    }
   ],
   "source": [
    "#4. Before - top figure BC time series, bottom figure ATN time series\n",
    "\n",
    "fig4 = plot.figure()\n",
    "\n",
    "# posix times and datetimes\n",
    "plot.subplot(211)\n",
    "yticks = [-2000,0,2000]\n",
    "plot.plot(BC_ONA[::10,0], BC_ONA[::10,1],linewidth=0.75)\n",
    "plot.yticks(yticks)\n",
    "plot.ylabel('BC (ng.$m^-$$^3$)')\n",
    "plot.tick_params(axis='both', which='both', bottom=False, top=False, labelbottom=False, right=False, left=False, labelleft=False)\n",
    "\n",
    "# posix times:\n",
    "plot.subplot(212)\n",
    "plot.plot(BC_ONA[::10,0], BC_ONA[::10,2],linewidth=0.75)\n",
    "plot.ylabel('ATN')\n",
    "plot.xlabel('Date')\n",
    "plot.tick_params(axis='both', which='both', bottom=False, top=False, labelbottom=False, right=False, left=False, labelleft=False)\n"
   ]
  },
  {
   "cell_type": "code",
   "execution_count": 157,
   "metadata": {},
   "outputs": [
    {
     "data": {
      "image/png": "[encoded data removed]",
      "text/plain": [
       "<Figure size 864x432 with 3 Axes>"
      ]
     },
     "metadata": {
      "needs_background": "light"
     },
     "output_type": "display_data"
    }
   ],
   "source": [
    "#5 After - top figure BC and BC-ONA time series, bottom figure averaging time\n",
    "fig5 = plot.figure()\n",
    "plot.subplot(221)\n",
    "yticks = [-2000,0,2000]\n",
    "plot.yticks(yticks)\n",
    "plot.plot(BC_ONA[::10,0], BC_ONA[::10,1],color ='black',linewidth=0.5)\n",
    "plot.tick_params(axis='both', which='both', bottom=False, top=False, labelbottom=False, right=False, left=True, labelleft=False)\n",
    "plot.ylabel('average BC concentration (ng m^-^3)')\n",
    "plot.axis('equal')\n",
    "plot.subplot(222)\n",
    "\n",
    "plot.plot(BC_ONA_ATN[:,0], BC_ONA_ATN[:,1],color ='green', marker='o')\n",
    "plot.xlabel('time')\n",
    "plot.axis([min(BC_ONA_ATN[:,0]), max(BC_ONA_ATN[:,0]),0,300])\n",
    "plot.ylabel('average ONA BC concentration (ng.$m^-$$^3$)')\n",
    "\n",
    "plot.subplot(223)\n",
    "plot.plot(BC_ONA_ATN[:,0], BC_ONA_ATN[::,3],color ='blue',linewidth=1)\n",
    "plot.xlabel('time')\n",
    "plot.ylabel('# pts averaged')\n",
    "\n",
    "plot.show()"
   ]
  },
  {
   "cell_type": "code",
   "execution_count": 194,
   "metadata": {},
   "outputs": [
    {
     "data": {
      "text/plain": [
       "array([[ 1.49677668e+09,  2.27875000e+01,  4.58900000e+00,\n",
       "         8.00000000e+01],\n",
       "       [ 1.49677674e+09,  2.27875000e+01,  4.59000000e+00,\n",
       "         8.00000000e+01],\n",
       "       [ 1.49677680e+09,  2.27875000e+01,  4.59100000e+00,\n",
       "         8.00000000e+01],\n",
       "       ...,\n",
       "       [ 1.49875920e+09,  3.13333333e+01,  1.19500000e+01,\n",
       "         6.00000000e+00],\n",
       "       [ 1.49875950e+09,  3.10000000e+01,  1.19540000e+01,\n",
       "         6.00000000e+00],\n",
       "       [ 1.49875980e+09, -6.00000000e+00,  1.19530000e+01,\n",
       "         1.00000000e+00]])"
      ]
     },
     "execution_count": 194,
     "metadata": {},
     "output_type": "execute_result"
    }
   ],
   "source": [
    "# Conversion of Numpy array to Pandas dataframe of BC_ONA_ATN\n",
    "BC_ONA_ATN"
   ]
  },
  {
   "cell_type": "code",
   "execution_count": 195,
   "metadata": {},
   "outputs": [],
   "source": [
    "Final_BC_ONA = pd.DataFrame({'Timestamp': BC_ONA_ATN[:,0],'BC ONA': BC_ONA_ATN[:,1],'ATN': BC_ONA_ATN[:,2],'Points average': BC_ONA_ATN[:,3],})"
   ]
  },
  {
   "cell_type": "code",
   "execution_count": 196,
   "metadata": {},
   "outputs": [
    {
     "data": {
      "text/html": [
       "<div>\n",
       "<style scoped>\n",
       "    .dataframe tbody tr th:only-of-type {\n",
       "        vertical-align: middle;\n",
       "    }\n",
       "\n",
       "    .dataframe tbody tr th {\n",
       "        vertical-align: top;\n",
       "    }\n",
       "\n",
       "    .dataframe thead th {\n",
       "        text-align: right;\n",
       "    }\n",
       "</style>\n",
       "<table border=\"1\" class=\"dataframe\">\n",
       "  <thead>\n",
       "    <tr style=\"text-align: right;\">\n",
       "      <th></th>\n",
       "      <th>Timestamp</th>\n",
       "      <th>BC ONA</th>\n",
       "      <th>ATN</th>\n",
       "      <th>Points average</th>\n",
       "    </tr>\n",
       "  </thead>\n",
       "  <tbody>\n",
       "    <tr>\n",
       "      <th>0</th>\n",
       "      <td>1.496777e+09</td>\n",
       "      <td>22.787500</td>\n",
       "      <td>4.589</td>\n",
       "      <td>80.0</td>\n",
       "    </tr>\n",
       "    <tr>\n",
       "      <th>1</th>\n",
       "      <td>1.496777e+09</td>\n",
       "      <td>22.787500</td>\n",
       "      <td>4.590</td>\n",
       "      <td>80.0</td>\n",
       "    </tr>\n",
       "    <tr>\n",
       "      <th>2</th>\n",
       "      <td>1.496777e+09</td>\n",
       "      <td>22.787500</td>\n",
       "      <td>4.591</td>\n",
       "      <td>80.0</td>\n",
       "    </tr>\n",
       "    <tr>\n",
       "      <th>3</th>\n",
       "      <td>1.496777e+09</td>\n",
       "      <td>22.787500</td>\n",
       "      <td>4.593</td>\n",
       "      <td>80.0</td>\n",
       "    </tr>\n",
       "    <tr>\n",
       "      <th>4</th>\n",
       "      <td>1.496777e+09</td>\n",
       "      <td>22.787500</td>\n",
       "      <td>4.594</td>\n",
       "      <td>80.0</td>\n",
       "    </tr>\n",
       "    <tr>\n",
       "      <th>...</th>\n",
       "      <td>...</td>\n",
       "      <td>...</td>\n",
       "      <td>...</td>\n",
       "      <td>...</td>\n",
       "    </tr>\n",
       "    <tr>\n",
       "      <th>10598</th>\n",
       "      <td>1.498759e+09</td>\n",
       "      <td>31.333333</td>\n",
       "      <td>11.946</td>\n",
       "      <td>6.0</td>\n",
       "    </tr>\n",
       "    <tr>\n",
       "      <th>10599</th>\n",
       "      <td>1.498759e+09</td>\n",
       "      <td>31.333333</td>\n",
       "      <td>11.949</td>\n",
       "      <td>6.0</td>\n",
       "    </tr>\n",
       "    <tr>\n",
       "      <th>10600</th>\n",
       "      <td>1.498759e+09</td>\n",
       "      <td>31.333333</td>\n",
       "      <td>11.950</td>\n",
       "      <td>6.0</td>\n",
       "    </tr>\n",
       "    <tr>\n",
       "      <th>10601</th>\n",
       "      <td>1.498760e+09</td>\n",
       "      <td>31.000000</td>\n",
       "      <td>11.954</td>\n",
       "      <td>6.0</td>\n",
       "    </tr>\n",
       "    <tr>\n",
       "      <th>10602</th>\n",
       "      <td>1.498760e+09</td>\n",
       "      <td>-6.000000</td>\n",
       "      <td>11.953</td>\n",
       "      <td>1.0</td>\n",
       "    </tr>\n",
       "  </tbody>\n",
       "</table>\n",
       "<p>10603 rows × 4 columns</p>\n",
       "</div>"
      ],
      "text/plain": [
       "          Timestamp     BC ONA     ATN  Points average\n",
       "0      1.496777e+09  22.787500   4.589            80.0\n",
       "1      1.496777e+09  22.787500   4.590            80.0\n",
       "2      1.496777e+09  22.787500   4.591            80.0\n",
       "3      1.496777e+09  22.787500   4.593            80.0\n",
       "4      1.496777e+09  22.787500   4.594            80.0\n",
       "...             ...        ...     ...             ...\n",
       "10598  1.498759e+09  31.333333  11.946             6.0\n",
       "10599  1.498759e+09  31.333333  11.949             6.0\n",
       "10600  1.498759e+09  31.333333  11.950             6.0\n",
       "10601  1.498760e+09  31.000000  11.954             6.0\n",
       "10602  1.498760e+09  -6.000000  11.953             1.0\n",
       "\n",
       "[10603 rows x 4 columns]"
      ]
     },
     "execution_count": 196,
     "metadata": {},
     "output_type": "execute_result"
    }
   ],
   "source": [
    "Final_BC_ONA"
   ]
  },
  {
   "cell_type": "code",
   "execution_count": 197,
   "metadata": {},
   "outputs": [],
   "source": [
    "# Check the number of occurencies of negative concentrations of BC:\n",
    "\n",
    "neg=Final_BC_ONA[['BC ONA']].agg(lambda x: sum(x < 0)).sum()"
   ]
  },
  {
   "cell_type": "code",
   "execution_count": 130,
   "metadata": {},
   "outputs": [
    {
     "data": {
      "text/plain": [
       "21"
      ]
     },
     "execution_count": 130,
     "metadata": {},
     "output_type": "execute_result"
    }
   ],
   "source": [
    "neg"
   ]
  },
  {
   "cell_type": "code",
   "execution_count": 131,
   "metadata": {},
   "outputs": [
    {
     "name": "stdout",
     "output_type": "stream",
     "text": [
      "10603\n"
     ]
    }
   ],
   "source": [
    "# Total number of concentrations values available for BC:\n",
    "total=len(Final_BC_ONA['BC ONA'])\n",
    "print(total)"
   ]
  },
  {
   "cell_type": "code",
   "execution_count": 132,
   "metadata": {},
   "outputs": [
    {
     "name": "stdout",
     "output_type": "stream",
     "text": [
      "The percentage of negative BC values in the dataset is 0 %.\n"
     ]
    }
   ],
   "source": [
    "# Calculate the percentage of BC negative values:\n",
    "pneg = neg/total*100\n",
    "print(\"The percentage of negative BC values in the dataset is\", pneg.round(0).astype(int), \"%.\" )"
   ]
  },
  {
   "cell_type": "code",
   "execution_count": 198,
   "metadata": {},
   "outputs": [],
   "source": [
    "# Conversion of timestamp from Posix to Year-Month-Day Hour:Minute\n",
    "Final_BC_ONA['Timestamp'] = pd.to_datetime(Final_BC_ONA['Timestamp'],unit='s')"
   ]
  },
  {
   "cell_type": "code",
   "execution_count": 199,
   "metadata": {},
   "outputs": [
    {
     "data": {
      "text/html": [
       "<div>\n",
       "<style scoped>\n",
       "    .dataframe tbody tr th:only-of-type {\n",
       "        vertical-align: middle;\n",
       "    }\n",
       "\n",
       "    .dataframe tbody tr th {\n",
       "        vertical-align: top;\n",
       "    }\n",
       "\n",
       "    .dataframe thead th {\n",
       "        text-align: right;\n",
       "    }\n",
       "</style>\n",
       "<table border=\"1\" class=\"dataframe\">\n",
       "  <thead>\n",
       "    <tr style=\"text-align: right;\">\n",
       "      <th></th>\n",
       "      <th>Timestamp</th>\n",
       "      <th>BC ONA</th>\n",
       "      <th>ATN</th>\n",
       "      <th>Points average</th>\n",
       "    </tr>\n",
       "  </thead>\n",
       "  <tbody>\n",
       "    <tr>\n",
       "      <th>0</th>\n",
       "      <td>2017-06-06 19:18:00</td>\n",
       "      <td>22.787500</td>\n",
       "      <td>4.589</td>\n",
       "      <td>80.0</td>\n",
       "    </tr>\n",
       "    <tr>\n",
       "      <th>1</th>\n",
       "      <td>2017-06-06 19:19:00</td>\n",
       "      <td>22.787500</td>\n",
       "      <td>4.590</td>\n",
       "      <td>80.0</td>\n",
       "    </tr>\n",
       "    <tr>\n",
       "      <th>2</th>\n",
       "      <td>2017-06-06 19:20:00</td>\n",
       "      <td>22.787500</td>\n",
       "      <td>4.591</td>\n",
       "      <td>80.0</td>\n",
       "    </tr>\n",
       "    <tr>\n",
       "      <th>3</th>\n",
       "      <td>2017-06-06 19:21:00</td>\n",
       "      <td>22.787500</td>\n",
       "      <td>4.593</td>\n",
       "      <td>80.0</td>\n",
       "    </tr>\n",
       "    <tr>\n",
       "      <th>4</th>\n",
       "      <td>2017-06-06 19:22:00</td>\n",
       "      <td>22.787500</td>\n",
       "      <td>4.594</td>\n",
       "      <td>80.0</td>\n",
       "    </tr>\n",
       "    <tr>\n",
       "      <th>...</th>\n",
       "      <td>...</td>\n",
       "      <td>...</td>\n",
       "      <td>...</td>\n",
       "      <td>...</td>\n",
       "    </tr>\n",
       "    <tr>\n",
       "      <th>10598</th>\n",
       "      <td>2017-06-29 17:50:00</td>\n",
       "      <td>31.333333</td>\n",
       "      <td>11.946</td>\n",
       "      <td>6.0</td>\n",
       "    </tr>\n",
       "    <tr>\n",
       "      <th>10599</th>\n",
       "      <td>2017-06-29 17:55:00</td>\n",
       "      <td>31.333333</td>\n",
       "      <td>11.949</td>\n",
       "      <td>6.0</td>\n",
       "    </tr>\n",
       "    <tr>\n",
       "      <th>10600</th>\n",
       "      <td>2017-06-29 18:00:00</td>\n",
       "      <td>31.333333</td>\n",
       "      <td>11.950</td>\n",
       "      <td>6.0</td>\n",
       "    </tr>\n",
       "    <tr>\n",
       "      <th>10601</th>\n",
       "      <td>2017-06-29 18:05:00</td>\n",
       "      <td>31.000000</td>\n",
       "      <td>11.954</td>\n",
       "      <td>6.0</td>\n",
       "    </tr>\n",
       "    <tr>\n",
       "      <th>10602</th>\n",
       "      <td>2017-06-29 18:10:00</td>\n",
       "      <td>-6.000000</td>\n",
       "      <td>11.953</td>\n",
       "      <td>1.0</td>\n",
       "    </tr>\n",
       "  </tbody>\n",
       "</table>\n",
       "<p>10603 rows × 4 columns</p>\n",
       "</div>"
      ],
      "text/plain": [
       "                Timestamp     BC ONA     ATN  Points average\n",
       "0     2017-06-06 19:18:00  22.787500   4.589            80.0\n",
       "1     2017-06-06 19:19:00  22.787500   4.590            80.0\n",
       "2     2017-06-06 19:20:00  22.787500   4.591            80.0\n",
       "3     2017-06-06 19:21:00  22.787500   4.593            80.0\n",
       "4     2017-06-06 19:22:00  22.787500   4.594            80.0\n",
       "...                   ...        ...     ...             ...\n",
       "10598 2017-06-29 17:50:00  31.333333  11.946             6.0\n",
       "10599 2017-06-29 17:55:00  31.333333  11.949             6.0\n",
       "10600 2017-06-29 18:00:00  31.333333  11.950             6.0\n",
       "10601 2017-06-29 18:05:00  31.000000  11.954             6.0\n",
       "10602 2017-06-29 18:10:00  -6.000000  11.953             1.0\n",
       "\n",
       "[10603 rows x 4 columns]"
      ]
     },
     "execution_count": 199,
     "metadata": {},
     "output_type": "execute_result"
    }
   ],
   "source": [
    "Final_BC_ONA"
   ]
  },
  {
   "cell_type": "code",
   "execution_count": 139,
   "metadata": {},
   "outputs": [
    {
     "data": {
      "text/html": [
       "<div>\n",
       "<style scoped>\n",
       "    .dataframe tbody tr th:only-of-type {\n",
       "        vertical-align: middle;\n",
       "    }\n",
       "\n",
       "    .dataframe tbody tr th {\n",
       "        vertical-align: top;\n",
       "    }\n",
       "\n",
       "    .dataframe thead th {\n",
       "        text-align: right;\n",
       "    }\n",
       "</style>\n",
       "<table border=\"1\" class=\"dataframe\">\n",
       "  <thead>\n",
       "    <tr style=\"text-align: right;\">\n",
       "      <th></th>\n",
       "      <th>Timestamp</th>\n",
       "      <th>BC ONA</th>\n",
       "    </tr>\n",
       "  </thead>\n",
       "  <tbody>\n",
       "    <tr>\n",
       "      <th>0</th>\n",
       "      <td>2017-06-06 19:18:00</td>\n",
       "      <td>22.7875</td>\n",
       "    </tr>\n",
       "    <tr>\n",
       "      <th>1</th>\n",
       "      <td>2017-06-06 19:19:00</td>\n",
       "      <td>22.7875</td>\n",
       "    </tr>\n",
       "    <tr>\n",
       "      <th>2</th>\n",
       "      <td>2017-06-06 19:20:00</td>\n",
       "      <td>22.7875</td>\n",
       "    </tr>\n",
       "    <tr>\n",
       "      <th>3</th>\n",
       "      <td>2017-06-06 19:21:00</td>\n",
       "      <td>22.7875</td>\n",
       "    </tr>\n",
       "    <tr>\n",
       "      <th>4</th>\n",
       "      <td>2017-06-06 19:22:00</td>\n",
       "      <td>22.7875</td>\n",
       "    </tr>\n",
       "  </tbody>\n",
       "</table>\n",
       "</div>"
      ],
      "text/plain": [
       "            Timestamp   BC ONA\n",
       "0 2017-06-06 19:18:00  22.7875\n",
       "1 2017-06-06 19:19:00  22.7875\n",
       "2 2017-06-06 19:20:00  22.7875\n",
       "3 2017-06-06 19:21:00  22.7875\n",
       "4 2017-06-06 19:22:00  22.7875"
      ]
     },
     "execution_count": 139,
     "metadata": {},
     "output_type": "execute_result"
    }
   ],
   "source": [
    "# To create a new dataframe called \"plot_BC ONA\" with only the columns \"Timestamp\" and \"BC ONA\":\n",
    "\n",
    "plot_BC_ONA=Final_BC_ONA[['Timestamp','BC ONA']]\n",
    "\n",
    "# To check if new dataframe is ok:\n",
    "plot_BC_ONA.head()"
   ]
  },
  {
   "cell_type": "code",
   "execution_count": 145,
   "metadata": {},
   "outputs": [
    {
     "data": {
      "image/png": "[encoded data removed]",
      "text/plain": [
       "<Figure size 864x432 with 1 Axes>"
      ]
     },
     "metadata": {
      "needs_background": "light"
     },
     "output_type": "display_data"
    }
   ],
   "source": [
    "ax2 = plot_BC_ONA.plot('Timestamp', 'BC ONA', title = 'ONA BC data during July2017 monitoring campaign',\n",
    "                   ylim=[-100,300])\n",
    "ax2.set_xlabel('Date')\n",
    "ax2.set_ylabel('BC Concentration (ng.$m^-$$^3$)')\n",
    "ax2.grid(True)"
   ]
  },
  {
   "cell_type": "code",
   "execution_count": 158,
   "metadata": {},
   "outputs": [],
   "source": [
    "# Histogram of ONA BC data\n",
    "Hist_BC_ONA=Final_BC_ONA[['BC ONA']]"
   ]
  },
  {
   "cell_type": "code",
   "execution_count": 159,
   "metadata": {},
   "outputs": [
    {
     "data": {
      "text/html": [
       "<div>\n",
       "<style scoped>\n",
       "    .dataframe tbody tr th:only-of-type {\n",
       "        vertical-align: middle;\n",
       "    }\n",
       "\n",
       "    .dataframe tbody tr th {\n",
       "        vertical-align: top;\n",
       "    }\n",
       "\n",
       "    .dataframe thead th {\n",
       "        text-align: right;\n",
       "    }\n",
       "</style>\n",
       "<table border=\"1\" class=\"dataframe\">\n",
       "  <thead>\n",
       "    <tr style=\"text-align: right;\">\n",
       "      <th></th>\n",
       "      <th>BC ONA</th>\n",
       "    </tr>\n",
       "  </thead>\n",
       "  <tbody>\n",
       "    <tr>\n",
       "      <th>0</th>\n",
       "      <td>22.787500</td>\n",
       "    </tr>\n",
       "    <tr>\n",
       "      <th>1</th>\n",
       "      <td>22.787500</td>\n",
       "    </tr>\n",
       "    <tr>\n",
       "      <th>2</th>\n",
       "      <td>22.787500</td>\n",
       "    </tr>\n",
       "    <tr>\n",
       "      <th>3</th>\n",
       "      <td>22.787500</td>\n",
       "    </tr>\n",
       "    <tr>\n",
       "      <th>4</th>\n",
       "      <td>22.787500</td>\n",
       "    </tr>\n",
       "    <tr>\n",
       "      <th>...</th>\n",
       "      <td>...</td>\n",
       "    </tr>\n",
       "    <tr>\n",
       "      <th>10598</th>\n",
       "      <td>31.333333</td>\n",
       "    </tr>\n",
       "    <tr>\n",
       "      <th>10599</th>\n",
       "      <td>31.333333</td>\n",
       "    </tr>\n",
       "    <tr>\n",
       "      <th>10600</th>\n",
       "      <td>31.333333</td>\n",
       "    </tr>\n",
       "    <tr>\n",
       "      <th>10601</th>\n",
       "      <td>31.000000</td>\n",
       "    </tr>\n",
       "    <tr>\n",
       "      <th>10602</th>\n",
       "      <td>-6.000000</td>\n",
       "    </tr>\n",
       "  </tbody>\n",
       "</table>\n",
       "<p>10603 rows × 1 columns</p>\n",
       "</div>"
      ],
      "text/plain": [
       "          BC ONA\n",
       "0      22.787500\n",
       "1      22.787500\n",
       "2      22.787500\n",
       "3      22.787500\n",
       "4      22.787500\n",
       "...          ...\n",
       "10598  31.333333\n",
       "10599  31.333333\n",
       "10600  31.333333\n",
       "10601  31.000000\n",
       "10602  -6.000000\n",
       "\n",
       "[10603 rows x 1 columns]"
      ]
     },
     "execution_count": 159,
     "metadata": {},
     "output_type": "execute_result"
    }
   ],
   "source": [
    "Hist_BC_ONA"
   ]
  },
  {
   "cell_type": "code",
   "execution_count": 265,
   "metadata": {},
   "outputs": [
    {
     "data": {
      "text/plain": [
       "Text(0.5, 0, 'BC Concentration (ng.$m^-$$^3$)')"
      ]
     },
     "execution_count": 265,
     "metadata": {},
     "output_type": "execute_result"
    },
    {
     "data": {
      "image/png": "[encoded data removed]",
      "text/plain": [
       "<Figure size 864x432 with 1 Axes>"
      ]
     },
     "metadata": {
      "needs_background": "light"
     },
     "output_type": "display_data"
    }
   ],
   "source": [
    "ax3 = Hist_BC_ONA.plot.hist(range=[-20, 100],bins=[-15,-10,-5, 0,5,10,15, 20,25, 30,35, 40,45, 50,55,60,65,70,75,80,85,90,95, 100], title = 'Histogram of ONA BC data')\n",
    "ax3.set_xlabel('BC Concentration (ng.$m^-$$^3$)')"
   ]
  },
  {
   "cell_type": "code",
   "execution_count": 169,
   "metadata": {},
   "outputs": [],
   "source": [
    "negHist=Hist_BC_ONA[['BC ONA']].agg(lambda x: sum(x < 0)).sum()"
   ]
  },
  {
   "cell_type": "code",
   "execution_count": 170,
   "metadata": {},
   "outputs": [
    {
     "data": {
      "text/plain": [
       "21"
      ]
     },
     "execution_count": 170,
     "metadata": {},
     "output_type": "execute_result"
    }
   ],
   "source": [
    "negHist"
   ]
  },
  {
   "cell_type": "code",
   "execution_count": 189,
   "metadata": {},
   "outputs": [
    {
     "data": {
      "text/plain": [
       "Text(0.5, 0, 'BC Concentration (ng.$m^-$$^3$)')"
      ]
     },
     "execution_count": 189,
     "metadata": {},
     "output_type": "execute_result"
    },
    {
     "data": {
      "image/png": "[encoded data removed]",
      "text/plain": [
       "<Figure size 864x432 with 1 Axes>"
      ]
     },
     "metadata": {
      "needs_background": "light"
     },
     "output_type": "display_data"
    }
   ],
   "source": [
    "ax4 = Hist_BC_ONA.plot.hist(range=[0, 20], bins=[0,1,2,3,4,5,6,7,8,9,10,11,12,13,14,15,16,17,18,19,20],title = 'Histogram of selected ONA BC data')\n",
    "ax4.set_xlabel('BC Concentration (ng.$m^-$$^3$)')"
   ]
  },
  {
   "cell_type": "code",
   "execution_count": 191,
   "metadata": {},
   "outputs": [
    {
     "data": {
      "text/plain": [
       "array([['1496776680.0', '-12', '4.589'],\n",
       "       ['1496776740.0', '12', '4.59'],\n",
       "       ['1496776800.0', '60', '4.591'],\n",
       "       ...,\n",
       "       ['1498759200.0', '4', '11.95'],\n",
       "       ['1498759500.0', '31', '11.954'],\n",
       "       ['1498759800.0', '-6', '11.953']], dtype='<U32')"
      ]
     },
     "execution_count": 191,
     "metadata": {},
     "output_type": "execute_result"
    }
   ],
   "source": [
    "# Goal: compare BC concentrations before and after ONA correction\n",
    "\n",
    "# 1.Conversion of Numpy array to Pandas dataframe of BC_ONA\n",
    "BC_ONA\n"
   ]
  },
  {
   "cell_type": "code",
   "execution_count": 200,
   "metadata": {},
   "outputs": [],
   "source": [
    "Initial_BC = pd.DataFrame({'Timestamp': BC_ONA[:,0],'BC': BC_ONA[:,1],'ATN': BC_ONA[:,2]})"
   ]
  },
  {
   "cell_type": "code",
   "execution_count": 201,
   "metadata": {},
   "outputs": [
    {
     "data": {
      "text/html": [
       "<div>\n",
       "<style scoped>\n",
       "    .dataframe tbody tr th:only-of-type {\n",
       "        vertical-align: middle;\n",
       "    }\n",
       "\n",
       "    .dataframe tbody tr th {\n",
       "        vertical-align: top;\n",
       "    }\n",
       "\n",
       "    .dataframe thead th {\n",
       "        text-align: right;\n",
       "    }\n",
       "</style>\n",
       "<table border=\"1\" class=\"dataframe\">\n",
       "  <thead>\n",
       "    <tr style=\"text-align: right;\">\n",
       "      <th></th>\n",
       "      <th>Timestamp</th>\n",
       "      <th>BC</th>\n",
       "      <th>ATN</th>\n",
       "    </tr>\n",
       "  </thead>\n",
       "  <tbody>\n",
       "    <tr>\n",
       "      <th>0</th>\n",
       "      <td>1496776680.0</td>\n",
       "      <td>-12</td>\n",
       "      <td>4.589</td>\n",
       "    </tr>\n",
       "    <tr>\n",
       "      <th>1</th>\n",
       "      <td>1496776740.0</td>\n",
       "      <td>12</td>\n",
       "      <td>4.59</td>\n",
       "    </tr>\n",
       "    <tr>\n",
       "      <th>2</th>\n",
       "      <td>1496776800.0</td>\n",
       "      <td>60</td>\n",
       "      <td>4.591</td>\n",
       "    </tr>\n",
       "    <tr>\n",
       "      <th>3</th>\n",
       "      <td>1496776860.0</td>\n",
       "      <td>66</td>\n",
       "      <td>4.593</td>\n",
       "    </tr>\n",
       "    <tr>\n",
       "      <th>4</th>\n",
       "      <td>1496776920.0</td>\n",
       "      <td>44</td>\n",
       "      <td>4.594</td>\n",
       "    </tr>\n",
       "    <tr>\n",
       "      <th>...</th>\n",
       "      <td>...</td>\n",
       "      <td>...</td>\n",
       "      <td>...</td>\n",
       "    </tr>\n",
       "    <tr>\n",
       "      <th>10598</th>\n",
       "      <td>1498758600.0</td>\n",
       "      <td>48</td>\n",
       "      <td>11.946</td>\n",
       "    </tr>\n",
       "    <tr>\n",
       "      <th>10599</th>\n",
       "      <td>1498758900.0</td>\n",
       "      <td>23</td>\n",
       "      <td>11.949</td>\n",
       "    </tr>\n",
       "    <tr>\n",
       "      <th>10600</th>\n",
       "      <td>1498759200.0</td>\n",
       "      <td>4</td>\n",
       "      <td>11.95</td>\n",
       "    </tr>\n",
       "    <tr>\n",
       "      <th>10601</th>\n",
       "      <td>1498759500.0</td>\n",
       "      <td>31</td>\n",
       "      <td>11.954</td>\n",
       "    </tr>\n",
       "    <tr>\n",
       "      <th>10602</th>\n",
       "      <td>1498759800.0</td>\n",
       "      <td>-6</td>\n",
       "      <td>11.953</td>\n",
       "    </tr>\n",
       "  </tbody>\n",
       "</table>\n",
       "<p>10603 rows × 3 columns</p>\n",
       "</div>"
      ],
      "text/plain": [
       "          Timestamp   BC     ATN\n",
       "0      1496776680.0  -12   4.589\n",
       "1      1496776740.0   12    4.59\n",
       "2      1496776800.0   60   4.591\n",
       "3      1496776860.0   66   4.593\n",
       "4      1496776920.0   44   4.594\n",
       "...             ...  ...     ...\n",
       "10598  1498758600.0   48  11.946\n",
       "10599  1498758900.0   23  11.949\n",
       "10600  1498759200.0    4   11.95\n",
       "10601  1498759500.0   31  11.954\n",
       "10602  1498759800.0   -6  11.953\n",
       "\n",
       "[10603 rows x 3 columns]"
      ]
     },
     "execution_count": 201,
     "metadata": {},
     "output_type": "execute_result"
    }
   ],
   "source": [
    "Initial_BC"
   ]
  },
  {
   "cell_type": "code",
   "execution_count": 202,
   "metadata": {},
   "outputs": [],
   "source": [
    "# 2. Conversion of timestamp from Posix to Year-Month-Day Hour:Minute\n",
    "Initial_BC['Timestamp'] = pd.to_datetime(Initial_BC['Timestamp'],unit='s')"
   ]
  },
  {
   "cell_type": "code",
   "execution_count": 203,
   "metadata": {},
   "outputs": [
    {
     "data": {
      "text/html": [
       "<div>\n",
       "<style scoped>\n",
       "    .dataframe tbody tr th:only-of-type {\n",
       "        vertical-align: middle;\n",
       "    }\n",
       "\n",
       "    .dataframe tbody tr th {\n",
       "        vertical-align: top;\n",
       "    }\n",
       "\n",
       "    .dataframe thead th {\n",
       "        text-align: right;\n",
       "    }\n",
       "</style>\n",
       "<table border=\"1\" class=\"dataframe\">\n",
       "  <thead>\n",
       "    <tr style=\"text-align: right;\">\n",
       "      <th></th>\n",
       "      <th>Timestamp</th>\n",
       "      <th>BC</th>\n",
       "      <th>ATN</th>\n",
       "    </tr>\n",
       "  </thead>\n",
       "  <tbody>\n",
       "    <tr>\n",
       "      <th>0</th>\n",
       "      <td>2017-06-06 19:18:00</td>\n",
       "      <td>-12</td>\n",
       "      <td>4.589</td>\n",
       "    </tr>\n",
       "    <tr>\n",
       "      <th>1</th>\n",
       "      <td>2017-06-06 19:19:00</td>\n",
       "      <td>12</td>\n",
       "      <td>4.59</td>\n",
       "    </tr>\n",
       "    <tr>\n",
       "      <th>2</th>\n",
       "      <td>2017-06-06 19:20:00</td>\n",
       "      <td>60</td>\n",
       "      <td>4.591</td>\n",
       "    </tr>\n",
       "    <tr>\n",
       "      <th>3</th>\n",
       "      <td>2017-06-06 19:21:00</td>\n",
       "      <td>66</td>\n",
       "      <td>4.593</td>\n",
       "    </tr>\n",
       "    <tr>\n",
       "      <th>4</th>\n",
       "      <td>2017-06-06 19:22:00</td>\n",
       "      <td>44</td>\n",
       "      <td>4.594</td>\n",
       "    </tr>\n",
       "    <tr>\n",
       "      <th>...</th>\n",
       "      <td>...</td>\n",
       "      <td>...</td>\n",
       "      <td>...</td>\n",
       "    </tr>\n",
       "    <tr>\n",
       "      <th>10598</th>\n",
       "      <td>2017-06-29 17:50:00</td>\n",
       "      <td>48</td>\n",
       "      <td>11.946</td>\n",
       "    </tr>\n",
       "    <tr>\n",
       "      <th>10599</th>\n",
       "      <td>2017-06-29 17:55:00</td>\n",
       "      <td>23</td>\n",
       "      <td>11.949</td>\n",
       "    </tr>\n",
       "    <tr>\n",
       "      <th>10600</th>\n",
       "      <td>2017-06-29 18:00:00</td>\n",
       "      <td>4</td>\n",
       "      <td>11.95</td>\n",
       "    </tr>\n",
       "    <tr>\n",
       "      <th>10601</th>\n",
       "      <td>2017-06-29 18:05:00</td>\n",
       "      <td>31</td>\n",
       "      <td>11.954</td>\n",
       "    </tr>\n",
       "    <tr>\n",
       "      <th>10602</th>\n",
       "      <td>2017-06-29 18:10:00</td>\n",
       "      <td>-6</td>\n",
       "      <td>11.953</td>\n",
       "    </tr>\n",
       "  </tbody>\n",
       "</table>\n",
       "<p>10603 rows × 3 columns</p>\n",
       "</div>"
      ],
      "text/plain": [
       "                Timestamp   BC     ATN\n",
       "0     2017-06-06 19:18:00  -12   4.589\n",
       "1     2017-06-06 19:19:00   12    4.59\n",
       "2     2017-06-06 19:20:00   60   4.591\n",
       "3     2017-06-06 19:21:00   66   4.593\n",
       "4     2017-06-06 19:22:00   44   4.594\n",
       "...                   ...  ...     ...\n",
       "10598 2017-06-29 17:50:00   48  11.946\n",
       "10599 2017-06-29 17:55:00   23  11.949\n",
       "10600 2017-06-29 18:00:00    4   11.95\n",
       "10601 2017-06-29 18:05:00   31  11.954\n",
       "10602 2017-06-29 18:10:00   -6  11.953\n",
       "\n",
       "[10603 rows x 3 columns]"
      ]
     },
     "execution_count": 203,
     "metadata": {},
     "output_type": "execute_result"
    }
   ],
   "source": [
    "Initial_BC"
   ]
  },
  {
   "cell_type": "code",
   "execution_count": 236,
   "metadata": {},
   "outputs": [],
   "source": [
    "# How to create a new dataframe (BC_ba: before and after) with only the timestamp, BC data before and after correction:"
   ]
  },
  {
   "cell_type": "code",
   "execution_count": 280,
   "metadata": {},
   "outputs": [],
   "source": [
    "BC_ba = Initial_BC[['Timestamp']].join(Initial_BC[['BC']].join(Final_BC_ONA[['BC ONA']]))"
   ]
  },
  {
   "cell_type": "code",
   "execution_count": 281,
   "metadata": {},
   "outputs": [
    {
     "data": {
      "text/html": [
       "<div>\n",
       "<style scoped>\n",
       "    .dataframe tbody tr th:only-of-type {\n",
       "        vertical-align: middle;\n",
       "    }\n",
       "\n",
       "    .dataframe tbody tr th {\n",
       "        vertical-align: top;\n",
       "    }\n",
       "\n",
       "    .dataframe thead th {\n",
       "        text-align: right;\n",
       "    }\n",
       "</style>\n",
       "<table border=\"1\" class=\"dataframe\">\n",
       "  <thead>\n",
       "    <tr style=\"text-align: right;\">\n",
       "      <th></th>\n",
       "      <th>Timestamp</th>\n",
       "      <th>BC</th>\n",
       "      <th>BC ONA</th>\n",
       "    </tr>\n",
       "  </thead>\n",
       "  <tbody>\n",
       "    <tr>\n",
       "      <th>0</th>\n",
       "      <td>2017-06-06 19:18:00</td>\n",
       "      <td>-12</td>\n",
       "      <td>22.787500</td>\n",
       "    </tr>\n",
       "    <tr>\n",
       "      <th>1</th>\n",
       "      <td>2017-06-06 19:19:00</td>\n",
       "      <td>12</td>\n",
       "      <td>22.787500</td>\n",
       "    </tr>\n",
       "    <tr>\n",
       "      <th>2</th>\n",
       "      <td>2017-06-06 19:20:00</td>\n",
       "      <td>60</td>\n",
       "      <td>22.787500</td>\n",
       "    </tr>\n",
       "    <tr>\n",
       "      <th>3</th>\n",
       "      <td>2017-06-06 19:21:00</td>\n",
       "      <td>66</td>\n",
       "      <td>22.787500</td>\n",
       "    </tr>\n",
       "    <tr>\n",
       "      <th>4</th>\n",
       "      <td>2017-06-06 19:22:00</td>\n",
       "      <td>44</td>\n",
       "      <td>22.787500</td>\n",
       "    </tr>\n",
       "    <tr>\n",
       "      <th>...</th>\n",
       "      <td>...</td>\n",
       "      <td>...</td>\n",
       "      <td>...</td>\n",
       "    </tr>\n",
       "    <tr>\n",
       "      <th>10598</th>\n",
       "      <td>2017-06-29 17:50:00</td>\n",
       "      <td>48</td>\n",
       "      <td>31.333333</td>\n",
       "    </tr>\n",
       "    <tr>\n",
       "      <th>10599</th>\n",
       "      <td>2017-06-29 17:55:00</td>\n",
       "      <td>23</td>\n",
       "      <td>31.333333</td>\n",
       "    </tr>\n",
       "    <tr>\n",
       "      <th>10600</th>\n",
       "      <td>2017-06-29 18:00:00</td>\n",
       "      <td>4</td>\n",
       "      <td>31.333333</td>\n",
       "    </tr>\n",
       "    <tr>\n",
       "      <th>10601</th>\n",
       "      <td>2017-06-29 18:05:00</td>\n",
       "      <td>31</td>\n",
       "      <td>31.000000</td>\n",
       "    </tr>\n",
       "    <tr>\n",
       "      <th>10602</th>\n",
       "      <td>2017-06-29 18:10:00</td>\n",
       "      <td>-6</td>\n",
       "      <td>-6.000000</td>\n",
       "    </tr>\n",
       "  </tbody>\n",
       "</table>\n",
       "<p>10603 rows × 3 columns</p>\n",
       "</div>"
      ],
      "text/plain": [
       "                Timestamp   BC     BC ONA\n",
       "0     2017-06-06 19:18:00  -12  22.787500\n",
       "1     2017-06-06 19:19:00   12  22.787500\n",
       "2     2017-06-06 19:20:00   60  22.787500\n",
       "3     2017-06-06 19:21:00   66  22.787500\n",
       "4     2017-06-06 19:22:00   44  22.787500\n",
       "...                   ...  ...        ...\n",
       "10598 2017-06-29 17:50:00   48  31.333333\n",
       "10599 2017-06-29 17:55:00   23  31.333333\n",
       "10600 2017-06-29 18:00:00    4  31.333333\n",
       "10601 2017-06-29 18:05:00   31  31.000000\n",
       "10602 2017-06-29 18:10:00   -6  -6.000000\n",
       "\n",
       "[10603 rows x 3 columns]"
      ]
     },
     "execution_count": 281,
     "metadata": {},
     "output_type": "execute_result"
    }
   ],
   "source": [
    "BC_ba\n"
   ]
  },
  {
   "cell_type": "code",
   "execution_count": 278,
   "metadata": {},
   "outputs": [],
   "source": [
    "# Check if the data is in the correct format:"
   ]
  },
  {
   "cell_type": "code",
   "execution_count": 282,
   "metadata": {},
   "outputs": [
    {
     "data": {
      "text/plain": [
       "Timestamp    datetime64[ns]\n",
       "BC                   object\n",
       "BC ONA              float64\n",
       "dtype: object"
      ]
     },
     "execution_count": 282,
     "metadata": {},
     "output_type": "execute_result"
    }
   ],
   "source": [
    "BC_ba.dtypes"
   ]
  },
  {
   "cell_type": "code",
   "execution_count": 283,
   "metadata": {},
   "outputs": [],
   "source": [
    "# \"BC\" is not in the correct format (float) but it is in the object format. To change:\n",
    "\n",
    "BC_ba[\"BC\"] = BC_ba.BC.astype(float)"
   ]
  },
  {
   "cell_type": "code",
   "execution_count": 284,
   "metadata": {},
   "outputs": [
    {
     "data": {
      "text/plain": [
       "Timestamp    datetime64[ns]\n",
       "BC                  float64\n",
       "BC ONA              float64\n",
       "dtype: object"
      ]
     },
     "execution_count": 284,
     "metadata": {},
     "output_type": "execute_result"
    }
   ],
   "source": [
    "BC_ba.dtypes"
   ]
  },
  {
   "cell_type": "code",
   "execution_count": 285,
   "metadata": {},
   "outputs": [],
   "source": [
    "# How to do graphs about the BC concentrations before and after the ONA correction:"
   ]
  },
  {
   "cell_type": "code",
   "execution_count": 287,
   "metadata": {},
   "outputs": [
    {
     "data": {
      "image/png": "[encoded data removed]",
      "text/plain": [
       "<Figure size 864x432 with 1 Axes>"
      ]
     },
     "metadata": {
      "needs_background": "light"
     },
     "output_type": "display_data"
    },
    {
     "data": {
      "image/png": "[encoded data removed]",
      "text/plain": [
       "<Figure size 864x432 with 1 Axes>"
      ]
     },
     "metadata": {
      "needs_background": "light"
     },
     "output_type": "display_data"
    }
   ],
   "source": [
    "ax5 = BC_ba.plot('Timestamp', 'BC', title = 'Raw BC data during July2017 monitoring campaign',\n",
    "                   ylim=[-2000,2500])\n",
    "ax5.set_xlabel('Date')\n",
    "ax5.set_ylabel('BC Concentration (ng.$m^-$$^3$)')\n",
    "ax5.grid(True)\n",
    "\n",
    "ax5 = BC_ba.plot('Timestamp', 'BC ONA', title = 'Corrected BC data during July2017 monitoring campaign',\n",
    "                   ylim=[-2000,2500])\n",
    "ax5.set_xlabel('Date')\n",
    "ax5.set_ylabel('BC Concentration (ng.$m^-$$^3$)')\n",
    "ax5.grid(True)"
   ]
  },
  {
   "cell_type": "code",
   "execution_count": null,
   "metadata": {},
   "outputs": [],
   "source": []
  },
  {
   "cell_type": "code",
   "execution_count": null,
   "metadata": {},
   "outputs": [],
   "source": []
  },
  {
   "cell_type": "code",
   "execution_count": null,
   "metadata": {},
   "outputs": [],
   "source": []
  },
  {
   "cell_type": "code",
   "execution_count": null,
   "metadata": {},
   "outputs": [],
   "source": []
  },
  {
   "cell_type": "code",
   "execution_count": null,
   "metadata": {},
   "outputs": [],
   "source": []
  },
  {
   "cell_type": "code",
   "execution_count": null,
   "metadata": {},
   "outputs": [],
   "source": []
  }
 ],
 "metadata": {
  "kernelspec": {
   "display_name": "Python 3",
   "language": "python",
   "name": "python3"
  },
  "language_info": {
   "codemirror_mode": {
    "name": "ipython",
    "version": 3
   },
   "file_extension": ".py",
   "mimetype": "text/x-python",
   "name": "python",
   "nbconvert_exporter": "python",
   "pygments_lexer": "ipython3",
   "version": "3.7.6"
  }
 },
 "nbformat": 4,
 "nbformat_minor": 4
}
